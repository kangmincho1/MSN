{
 "metadata": {
  "language_info": {
   "codemirror_mode": {
    "name": "ipython",
    "version": 3
   },
   "file_extension": ".py",
   "mimetype": "text/x-python",
   "name": "python",
   "nbconvert_exporter": "python",
   "pygments_lexer": "ipython3",
   "version": "3.7.4-final"
  },
  "orig_nbformat": 2,
  "kernelspec": {
   "name": "python3",
   "display_name": "Python 3",
   "language": "python"
  }
 },
 "nbformat": 4,
 "nbformat_minor": 2,
 "cells": [
  {
   "source": [
    "# Stemming/Lemmatization\n",
    "- 문법적 요소에 따른 단어의 변형\n",
    "    - 영어의 경우 과거/현재, 3인칭 단수 여부, 진행형 등의 이유로 단어의 변형이 일어난다\n",
    "\n",
    "- Stemming\n",
    "    - 일반적/단순화된 방법 적용\n",
    "    - 일부 철자가 훼손된 어근을 추출하는 경향이 있음\n",
    "    - NLTK의 PorterStemmer, LancasterStemmer, Snowball LancasterStemmer\n",
    "\n",
    "- Lemmatization\n",
    "    - 품사 등 문법적 요소와 의미론에 기반하여 정확한 철자로 된 어근을 찾음\n",
    "    - 변환에 더 오랜 시간 필요\n",
    "    - NLTK의 WordNetLemmatizer"
   ],
   "cell_type": "markdown",
   "metadata": {}
  },
  {
   "source": [
    "## Stemming\n",
    "    - 오류가 다소 발생한다"
   ],
   "cell_type": "markdown",
   "metadata": {}
  },
  {
   "cell_type": "code",
   "execution_count": 1,
   "metadata": {},
   "outputs": [
    {
     "output_type": "stream",
     "name": "stdout",
     "text": [
      "work work work\namus amus amus\nhappy happiest\nfant fanciest\n"
     ]
    }
   ],
   "source": [
    "from nltk.stem import LancasterStemmer\n",
    "\n",
    "stemmer = LancasterStemmer()\n",
    "print(stemmer.stem('working'), stemmer.stem('works'), stemmer.stem('worked'))\n",
    "print(stemmer.stem('amusing'), stemmer.stem('amuses'), stemmer.stem('amused'))\n",
    "print(stemmer.stem('happier'), stemmer.stem('happiest'))\n",
    "print(stemmer.stem('fancier'), stemmer.stem('fanciest'))"
   ]
  },
  {
   "source": [
    "## Lemmatization\n",
    "    - Stemming 에 비해 오류가 적다"
   ],
   "cell_type": "markdown",
   "metadata": {}
  },
  {
   "cell_type": "code",
   "execution_count": 2,
   "metadata": {},
   "outputs": [
    {
     "output_type": "stream",
     "name": "stdout",
     "text": [
      "amuse amuse amuse\nhappy happy\nfancy fancy\n"
     ]
    }
   ],
   "source": [
    "from nltk.stem import WordNetLemmatizer\n",
    "\n",
    "lemma = WordNetLemmatizer()\n",
    "print(lemma.lemmatize('amusing', 'v'), lemma.lemmatize('amuses', 'v'), lemma.lemmatize('amused', 'v'))\n",
    "print(lemma.lemmatize('happier', 'a'), lemma.lemmatize('happiest', 'a'))\n",
    "print(lemma.lemmatize('fancier', 'a'), lemma.lemmatize('fanciest', 'a'))"
   ]
  }
 ]
}