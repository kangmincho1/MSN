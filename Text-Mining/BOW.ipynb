{
 "metadata": {
  "language_info": {
   "codemirror_mode": {
    "name": "ipython",
    "version": 3
   },
   "file_extension": ".py",
   "mimetype": "text/x-python",
   "name": "python",
   "nbconvert_exporter": "python",
   "pygments_lexer": "ipython3",
   "version": "3.7.4-final"
  },
  "orig_nbformat": 2,
  "kernelspec": {
   "name": "python3",
   "display_name": "Python 3",
   "language": "python"
  }
 },
 "nbformat": 4,
 "nbformat_minor": 2,
 "cells": [
  {
   "source": [
    "# BOW(Bag Of Words)\n",
    "- 문서의 모든 단어에 대해 문맥, 순서 무시하고 단어 빈도 값을 부여하여 feature value 추출\n",
    "    - 쉽고 빠른 구축이 가능하다\n",
    "    - 단어의 순서를 무시하므로 문맥적 의미가 무시된다(해결하기 위하여 n-gram 기법 활용)\n",
    "    - 희소(sparse) 행렬 문제(매우 많은 단어가 칼럼으로 만들어져 0으로 채워진 칸이 많고 이에 따라 수행 시간이 증가하고 예측 성능이 감소한다)\n",
    "\n",
    "- 피처 백터화\n",
    "    - 모든 단어를 column으로 나열\n",
    "    - 각 문서에서 해당 단어의 횟쉬 또는 정규화된 빈도를 값으로 부여\n",
    "    - 카운트 기반의 벡터화\n",
    "        - 단어가 나타나는 횟수를 부여\n",
    "        - 언어 특성상 자주 사용될 수밖에 없는 단어까지 높은 값 부여\n",
    "    - TF-IDF(Term Frequency Inverse Document Frequency) 기반의 벡터화\n",
    "        - 개별 문서에서 자주 나타나는 단어에 높은 가중치\n",
    "        - 모든 문서에서 자주 나타나는 단어에는 패널티\n",
    "\n",
    "- BOW 벡터화를 위한 희소 행렬\n",
    "    - 모든 문서의 단어를 feature로 변환\n",
    "        - 수십만 개의 column(단어)\n",
    "        - 대부분 0으로 채워진 희소 행렬\n",
    "        - 메모리 낭비, 데이터 엑세스 시간 증가\n",
    "        - 적은 메모리를 사용하도록 변환 -> COO, CSR 형식"
   ],
   "cell_type": "markdown",
   "metadata": {}
  },
  {
   "source": [
    "### COO(Coordinate) 형식\n",
    "- 0이 아닌 데이터만 별도의 배열에 저장\n",
    "- 그 데이터를 가리키는 행과 열을 별도의 배열로 저장"
   ],
   "cell_type": "markdown",
   "metadata": {}
  },
  {
   "cell_type": "code",
   "execution_count": 3,
   "metadata": {},
   "outputs": [
    {
     "output_type": "execute_result",
     "data": {
      "text/plain": [
       "array([[3, 0, 1],\n",
       "       [0, 2, 0]])"
      ]
     },
     "metadata": {},
     "execution_count": 3
    }
   ],
   "source": [
    "import numpy as np \n",
    "\n",
    "# dense array를 COO 형식으로 나타낼 것임\n",
    "dense = np.array([[3, 0, 1], [0, 2, 0]])\n",
    "dense"
   ]
  },
  {
   "cell_type": "code",
   "execution_count": 2,
   "metadata": {},
   "outputs": [
    {
     "output_type": "stream",
     "name": "stdout",
     "text": [
      "  (0, 0)\t3\n  (0, 2)\t1\n  (1, 1)\t2\n"
     ]
    }
   ],
   "source": [
    "from scipy import sparse\n",
    "\n",
    "data = np.array([3, 1, 2])\n",
    "rows = np.array([0, 0, 1])\n",
    "cols = np.array([0, 2, 1])\n",
    "\n",
    "sparse_coo = sparse.coo_matrix((data, (rows, cols)))\n",
    "print(sparse_coo)"
   ]
  },
  {
   "cell_type": "code",
   "execution_count": 4,
   "metadata": {},
   "outputs": [
    {
     "output_type": "execute_result",
     "data": {
      "text/plain": [
       "array([[3, 0, 1],\n",
       "       [0, 2, 0]])"
      ]
     },
     "metadata": {},
     "execution_count": 4
    }
   ],
   "source": [
    "sparse_coo.toarray()"
   ]
  },
  {
   "source": [
    "### CSR(Compressed Sparse Row) 형식\n",
    "- COO 방식의 문제점 개선, COO 방식은 row array에서 같은 값이 반복된다. 이를 바뀐 숫자 위치만 기록하고 항목 개수를 마지막에 추가하는 방식"
   ],
   "cell_type": "markdown",
   "metadata": {}
  },
  {
   "cell_type": "code",
   "execution_count": 5,
   "metadata": {},
   "outputs": [
    {
     "output_type": "stream",
     "name": "stdout",
     "text": [
      "COO\n [[0 0 1 0 0 5]\n [1 4 0 3 2 5]\n [0 6 0 3 0 0]\n [2 0 0 0 0 0]\n [0 0 0 7 0 8]\n [1 0 0 0 0 0]]\nCSR\n [[0 0 1 0 0 5]\n [1 4 0 3 2 5]\n [0 6 0 3 0 0]\n [2 0 0 0 0 0]\n [0 0 0 7 0 8]\n [1 0 0 0 0 0]]\n"
     ]
    }
   ],
   "source": [
    "data2 = np.array([1, 5, 1, 4, 3, 2, 5, 6, 3, 2, 7, 8, 1])\n",
    "rows = np.array([0, 0, 1, 1, 1, 1, 1, 2, 2, 3, 4, 4, 5])\n",
    "cols = np.array([2, 5, 0, 1, 3, 4, 5, 1, 3, 0, 3, 5, 0])\n",
    "\n",
    "sparse_coo = sparse.coo_matrix((data2, (rows, cols)))\n",
    "rows_index = np.array([0, 2, 7, 9, 10, 12, 13])\n",
    "sparse_csr = sparse.csr_matrix((data2, cols, rows_index))\n",
    "\n",
    "print('COO\\n', sparse_coo.toarray())\n",
    "print('CSR\\n', sparse_csr.toarray())"
   ]
  }
 ]
}