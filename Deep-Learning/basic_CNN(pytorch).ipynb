{
 "metadata": {
  "language_info": {
   "codemirror_mode": {
    "name": "ipython",
    "version": 3
   },
   "file_extension": ".py",
   "mimetype": "text/x-python",
   "name": "python",
   "nbconvert_exporter": "python",
   "pygments_lexer": "ipython3",
   "version": "3.7.4-final"
  },
  "orig_nbformat": 2,
  "kernelspec": {
   "name": "python3",
   "display_name": "Python 3"
  }
 },
 "nbformat": 4,
 "nbformat_minor": 2,
 "cells": [
  {
   "source": [
    "# CNN(Convolutional Neural Network)\n",
    "- Used framework: pytorch"
   ],
   "cell_type": "markdown",
   "metadata": {}
  },
  {
   "cell_type": "code",
   "execution_count": 21,
   "metadata": {},
   "outputs": [],
   "source": [
    "import numpy as np \n",
    "import torch\n",
    "import torch.nn as nn \n",
    "import torch.nn.functional as F\n",
    "import torch.optim as optim\n",
    "from torchvision import datasets, transforms"
   ]
  },
  {
   "cell_type": "code",
   "execution_count": 22,
   "metadata": {},
   "outputs": [],
   "source": [
    "seed = 1\n",
    "\n",
    "batch_size = 64\n",
    "test_batch_size = 64\n",
    "\n",
    "no_cuda = False"
   ]
  },
  {
   "cell_type": "code",
   "execution_count": 23,
   "metadata": {},
   "outputs": [],
   "source": [
    "use_cuda = not no_cuda and torch.cuda.is_available()\n",
    "device = torch.device('cuda' if use_cuda else 'cpu')"
   ]
  },
  {
   "source": [
    "## Data Preprocessing"
   ],
   "cell_type": "markdown",
   "metadata": {}
  },
  {
   "cell_type": "code",
   "execution_count": 24,
   "metadata": {},
   "outputs": [],
   "source": [
    "torch.manual_seed(seed)\n",
    "\n",
    "train_loader = torch.utils.data.DataLoader(\n",
    "    datasets.MNIST('dataset', train=True,\n",
    "                    transform=transforms.Compose([\n",
    "                        transforms.ToTensor(),\n",
    "                        transforms.Normalize(mean=(0.1307,), std=(0.3081,))\n",
    "                    ])),\n",
    "    batch_size=batch_size,\n",
    "    shuffle=True)\n",
    "\n",
    "\n",
    "test_loader = torch.utils.data.DataLoader(\n",
    "    datasets.MNIST('dataset', train=False,\n",
    "                    transform=transforms.Compose([\n",
    "                        transforms.ToTensor(),\n",
    "                        transforms.Normalize(mean=(0.1307,), std=(0.3081,))\n",
    "                    ])),\n",
    "    batch_size=test_batch_size,\n",
    "    shuffle=True)"
   ]
  },
  {
   "cell_type": "code",
   "execution_count": 25,
   "metadata": {},
   "outputs": [
    {
     "output_type": "execute_result",
     "data": {
      "text/plain": [
       "(torch.Size([64, 1, 28, 28]), torch.Size([64]))"
      ]
     },
     "metadata": {},
     "execution_count": 25
    }
   ],
   "source": [
    "image, label = next(iter(train_loader))\n",
    "image.shape, label.shape"
   ]
  },
  {
   "source": [
    "## Model"
   ],
   "cell_type": "markdown",
   "metadata": {}
  },
  {
   "cell_type": "code",
   "execution_count": 26,
   "metadata": {},
   "outputs": [],
   "source": [
    "class Net(nn.Module):\n",
    "    def __init__(self):\n",
    "        super(Net, self).__init__()\n",
    "        self.conv1 = nn.Conv2d(1, 20, 5, 1)\n",
    "        self.conv2 = nn.Conv2d(20, 50, 5, 1)\n",
    "        self.fc1 = nn.Linear(4*4*50, 500)\n",
    "        self.fc2 = nn.Linear(500, 10)\n",
    "\n",
    "    def forward(self, x):\n",
    "        # Feature Extaction\n",
    "        x = F.relu(self.conv1(x))\n",
    "        x = F.max_pool2d(x, 2, 2)\n",
    "        x = F.relu(self.conv2(x))\n",
    "        x = F.max_pool2d(x, 2, 2)\n",
    "\n",
    "        # Classification\n",
    "        x = x.view(-1, 4*4*50)\n",
    "        x = F.relu(self.fc1(x))\n",
    "        x = self.fc2(x)\n",
    "        return F.log_softmax(x, dim=1)"
   ]
  },
  {
   "source": [
    "## Optimization"
   ],
   "cell_type": "markdown",
   "metadata": {}
  },
  {
   "cell_type": "code",
   "execution_count": 27,
   "metadata": {},
   "outputs": [],
   "source": [
    "model = Net().to(device)"
   ]
  },
  {
   "cell_type": "code",
   "execution_count": 28,
   "metadata": {},
   "outputs": [],
   "source": [
    "optimizer = optim.SGD(model.parameters(), lr=0.001, momentum=0.5)"
   ]
  },
  {
   "source": [
    "## Training & Evaluation"
   ],
   "cell_type": "markdown",
   "metadata": {}
  },
  {
   "cell_type": "code",
   "execution_count": 32,
   "metadata": {},
   "outputs": [],
   "source": [
    "epochs = 10\n",
    "log_interval = 100"
   ]
  },
  {
   "cell_type": "code",
   "execution_count": 36,
   "metadata": {},
   "outputs": [
    {
     "output_type": "stream",
     "name": "stdout",
     "text": [
      "Train Epoch: 1 [0/60000 (0%)]\tLoss:  0.014684\n",
      "Train Epoch: 1 [6400/60000 (11%)]\tLoss:  0.048980\n",
      "Train Epoch: 1 [12800/60000 (21%)]\tLoss:  0.036658\n",
      "Train Epoch: 1 [19200/60000 (32%)]\tLoss:  0.015822\n",
      "Train Epoch: 1 [25600/60000 (43%)]\tLoss:  0.016382\n",
      "Train Epoch: 1 [32000/60000 (53%)]\tLoss:  0.178071\n",
      "Train Epoch: 1 [38400/60000 (64%)]\tLoss:  0.058943\n",
      "Train Epoch: 1 [44800/60000 (75%)]\tLoss:  0.008323\n",
      "Train Epoch: 1 [51200/60000 (85%)]\tLoss:  0.074407\n",
      "Train Epoch: 1 [57600/60000 (96%)]\tLoss:  0.037734\n",
      "\n",
      "Test set: Average Loss: 0.0548, Accuracy: 9835/10000 (98.3500%)\n",
      "\n",
      "Train Epoch: 2 [0/60000 (0%)]\tLoss:  0.088294\n",
      "Train Epoch: 2 [6400/60000 (11%)]\tLoss:  0.157994\n",
      "Train Epoch: 2 [12800/60000 (21%)]\tLoss:  0.019574\n",
      "Train Epoch: 2 [19200/60000 (32%)]\tLoss:  0.027723\n",
      "Train Epoch: 2 [25600/60000 (43%)]\tLoss:  0.073723\n",
      "Train Epoch: 2 [32000/60000 (53%)]\tLoss:  0.113683\n",
      "Train Epoch: 2 [38400/60000 (64%)]\tLoss:  0.114646\n",
      "Train Epoch: 2 [44800/60000 (75%)]\tLoss:  0.017126\n",
      "Train Epoch: 2 [51200/60000 (85%)]\tLoss:  0.040442\n",
      "Train Epoch: 2 [57600/60000 (96%)]\tLoss:  0.081600\n",
      "\n",
      "Test set: Average Loss: 0.0527, Accuracy: 9839/10000 (98.3900%)\n",
      "\n",
      "Train Epoch: 3 [0/60000 (0%)]\tLoss:  0.092789\n",
      "Train Epoch: 3 [6400/60000 (11%)]\tLoss:  0.079234\n",
      "Train Epoch: 3 [12800/60000 (21%)]\tLoss:  0.140703\n",
      "Train Epoch: 3 [19200/60000 (32%)]\tLoss:  0.129281\n",
      "Train Epoch: 3 [25600/60000 (43%)]\tLoss:  0.077387\n",
      "Train Epoch: 3 [32000/60000 (53%)]\tLoss:  0.015440\n",
      "Train Epoch: 3 [38400/60000 (64%)]\tLoss:  0.021132\n",
      "Train Epoch: 3 [44800/60000 (75%)]\tLoss:  0.037266\n",
      "Train Epoch: 3 [51200/60000 (85%)]\tLoss:  0.029458\n",
      "Train Epoch: 3 [57600/60000 (96%)]\tLoss:  0.185823\n",
      "\n",
      "Test set: Average Loss: 0.0512, Accuracy: 9836/10000 (98.3600%)\n",
      "\n",
      "Train Epoch: 4 [0/60000 (0%)]\tLoss:  0.010652\n",
      "Train Epoch: 4 [6400/60000 (11%)]\tLoss:  0.026296\n",
      "Train Epoch: 4 [12800/60000 (21%)]\tLoss:  0.027582\n",
      "Train Epoch: 4 [19200/60000 (32%)]\tLoss:  0.089557\n",
      "Train Epoch: 4 [25600/60000 (43%)]\tLoss:  0.107246\n",
      "Train Epoch: 4 [32000/60000 (53%)]\tLoss:  0.151666\n",
      "Train Epoch: 4 [38400/60000 (64%)]\tLoss:  0.138359\n",
      "Train Epoch: 4 [44800/60000 (75%)]\tLoss:  0.011410\n",
      "Train Epoch: 4 [51200/60000 (85%)]\tLoss:  0.148291\n",
      "Train Epoch: 4 [57600/60000 (96%)]\tLoss:  0.061626\n",
      "\n",
      "Test set: Average Loss: 0.0528, Accuracy: 9845/10000 (98.4500%)\n",
      "\n",
      "Train Epoch: 5 [0/60000 (0%)]\tLoss:  0.009102\n",
      "Train Epoch: 5 [6400/60000 (11%)]\tLoss:  0.005157\n",
      "Train Epoch: 5 [12800/60000 (21%)]\tLoss:  0.124458\n",
      "Train Epoch: 5 [19200/60000 (32%)]\tLoss:  0.030968\n",
      "Train Epoch: 5 [25600/60000 (43%)]\tLoss:  0.099526\n",
      "Train Epoch: 5 [32000/60000 (53%)]\tLoss:  0.187690\n",
      "Train Epoch: 5 [38400/60000 (64%)]\tLoss:  0.145715\n",
      "Train Epoch: 5 [44800/60000 (75%)]\tLoss:  0.024171\n",
      "Train Epoch: 5 [51200/60000 (85%)]\tLoss:  0.040275\n",
      "Train Epoch: 5 [57600/60000 (96%)]\tLoss:  0.009330\n",
      "\n",
      "Test set: Average Loss: 0.0480, Accuracy: 9851/10000 (98.5100%)\n",
      "\n",
      "Train Epoch: 6 [0/60000 (0%)]\tLoss:  0.034926\n",
      "Train Epoch: 6 [6400/60000 (11%)]\tLoss:  0.023159\n",
      "Train Epoch: 6 [12800/60000 (21%)]\tLoss:  0.026757\n",
      "Train Epoch: 6 [19200/60000 (32%)]\tLoss:  0.022741\n",
      "Train Epoch: 6 [25600/60000 (43%)]\tLoss:  0.039808\n",
      "Train Epoch: 6 [32000/60000 (53%)]\tLoss:  0.018808\n",
      "Train Epoch: 6 [38400/60000 (64%)]\tLoss:  0.049185\n",
      "Train Epoch: 6 [44800/60000 (75%)]\tLoss:  0.090445\n",
      "Train Epoch: 6 [51200/60000 (85%)]\tLoss:  0.040893\n",
      "Train Epoch: 6 [57600/60000 (96%)]\tLoss:  0.045215\n",
      "\n",
      "Test set: Average Loss: 0.0518, Accuracy: 9841/10000 (98.4100%)\n",
      "\n",
      "Train Epoch: 7 [0/60000 (0%)]\tLoss:  0.083787\n",
      "Train Epoch: 7 [6400/60000 (11%)]\tLoss:  0.010544\n",
      "Train Epoch: 7 [12800/60000 (21%)]\tLoss:  0.017255\n",
      "Train Epoch: 7 [19200/60000 (32%)]\tLoss:  0.013376\n",
      "Train Epoch: 7 [25600/60000 (43%)]\tLoss:  0.011563\n",
      "Train Epoch: 7 [32000/60000 (53%)]\tLoss:  0.152491\n",
      "Train Epoch: 7 [38400/60000 (64%)]\tLoss:  0.024971\n",
      "Train Epoch: 7 [44800/60000 (75%)]\tLoss:  0.030526\n",
      "Train Epoch: 7 [51200/60000 (85%)]\tLoss:  0.028105\n",
      "Train Epoch: 7 [57600/60000 (96%)]\tLoss:  0.049750\n",
      "\n",
      "Test set: Average Loss: 0.0483, Accuracy: 9855/10000 (98.5500%)\n",
      "\n",
      "Train Epoch: 8 [0/60000 (0%)]\tLoss:  0.039941\n",
      "Train Epoch: 8 [6400/60000 (11%)]\tLoss:  0.019499\n",
      "Train Epoch: 8 [12800/60000 (21%)]\tLoss:  0.006507\n",
      "Train Epoch: 8 [19200/60000 (32%)]\tLoss:  0.026891\n",
      "Train Epoch: 8 [25600/60000 (43%)]\tLoss:  0.056980\n",
      "Train Epoch: 8 [32000/60000 (53%)]\tLoss:  0.025788\n",
      "Train Epoch: 8 [38400/60000 (64%)]\tLoss:  0.142096\n",
      "Train Epoch: 8 [44800/60000 (75%)]\tLoss:  0.039842\n",
      "Train Epoch: 8 [51200/60000 (85%)]\tLoss:  0.084416\n",
      "Train Epoch: 8 [57600/60000 (96%)]\tLoss:  0.080493\n",
      "\n",
      "Test set: Average Loss: 0.0507, Accuracy: 9847/10000 (98.4700%)\n",
      "\n",
      "Train Epoch: 9 [0/60000 (0%)]\tLoss:  0.056195\n",
      "Train Epoch: 9 [6400/60000 (11%)]\tLoss:  0.027236\n",
      "Train Epoch: 9 [12800/60000 (21%)]\tLoss:  0.199936\n",
      "Train Epoch: 9 [19200/60000 (32%)]\tLoss:  0.008678\n",
      "Train Epoch: 9 [25600/60000 (43%)]\tLoss:  0.031482\n",
      "Train Epoch: 9 [32000/60000 (53%)]\tLoss:  0.116644\n",
      "Train Epoch: 9 [38400/60000 (64%)]\tLoss:  0.017542\n",
      "Train Epoch: 9 [44800/60000 (75%)]\tLoss:  0.081543\n",
      "Train Epoch: 9 [51200/60000 (85%)]\tLoss:  0.010719\n",
      "Train Epoch: 9 [57600/60000 (96%)]\tLoss:  0.039270\n",
      "\n",
      "Test set: Average Loss: 0.0464, Accuracy: 9864/10000 (98.6400%)\n",
      "\n",
      "Train Epoch: 10 [0/60000 (0%)]\tLoss:  0.015501\n",
      "Train Epoch: 10 [6400/60000 (11%)]\tLoss:  0.010740\n",
      "Train Epoch: 10 [12800/60000 (21%)]\tLoss:  0.021160\n",
      "Train Epoch: 10 [19200/60000 (32%)]\tLoss:  0.029176\n",
      "Train Epoch: 10 [25600/60000 (43%)]\tLoss:  0.025975\n",
      "Train Epoch: 10 [32000/60000 (53%)]\tLoss:  0.050057\n",
      "Train Epoch: 10 [38400/60000 (64%)]\tLoss:  0.143015\n",
      "Train Epoch: 10 [44800/60000 (75%)]\tLoss:  0.027173\n",
      "Train Epoch: 10 [51200/60000 (85%)]\tLoss:  0.003274\n",
      "Train Epoch: 10 [57600/60000 (96%)]\tLoss:  0.017029\n",
      "\n",
      "Test set: Average Loss: 0.0435, Accuracy: 9865/10000 (98.6500%)\n",
      "\n"
     ]
    }
   ],
   "source": [
    "for epoch in range(1, epochs + 1):\n",
    "    # Train Mode\n",
    "    model.train()\n",
    "    for batch_idx, (data, target) in enumerate(train_loader):\n",
    "        data, target = data.to(device), target.to(device)\n",
    "        optimizer.zero_grad()\n",
    "        output = model(data)\n",
    "        loss = F.nll_loss(output, target)\n",
    "        loss.backward()\n",
    "        optimizer.step()\n",
    "\n",
    "        if batch_idx % log_interval == 0:\n",
    "            print('Train Epoch: {} [{}/{} ({:.0f}%)]\\tLoss: {: .6f}'.format(\n",
    "                epoch, batch_idx * len(data), len(train_loader.dataset),\n",
    "                100 * batch_idx / len(train_loader), loss.item()\n",
    "            ))\n",
    "\n",
    "    # Evaluation Mode\n",
    "    model.eval()\n",
    "\n",
    "    test_loss = 0\n",
    "    correct = 0\n",
    "    with torch.no_grad():\n",
    "        for data, target in test_loader:\n",
    "            data, target = data.to(device), target.to(device)\n",
    "            output = model(data)\n",
    "            test_loss += F.nll_loss(output, target, reduction='sum').item()\n",
    "            pred = output.argmax(dim=1, keepdim=True)\n",
    "            correct += pred.eq(target.view_as(pred)).sum().item()\n",
    "\n",
    "    test_loss /= len(test_loader.dataset)\n",
    "\n",
    "    print('\\nTest set: Average Loss: {:.4f}, Accuracy: {}/{} ({:.4f}%)\\n'.format(\n",
    "        test_loss, correct, len(test_loader.dataset), 100. * correct / len(test_loader.dataset)\n",
    "    ))"
   ]
  }
 ]
}