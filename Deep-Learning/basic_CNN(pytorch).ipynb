{
 "metadata": {
  "language_info": {
   "codemirror_mode": {
    "name": "ipython",
    "version": 3
   },
   "file_extension": ".py",
   "mimetype": "text/x-python",
   "name": "python",
   "nbconvert_exporter": "python",
   "pygments_lexer": "ipython3",
   "version": "3.8.5-final"
  },
  "orig_nbformat": 2,
  "kernelspec": {
   "name": "python3",
   "display_name": "Python 3",
   "language": "python"
  }
 },
 "nbformat": 4,
 "nbformat_minor": 2,
 "cells": [
  {
   "source": [
    "# CNN(Convolutional Neural Network)\n",
    "- Used framework: pytorch"
   ],
   "cell_type": "markdown",
   "metadata": {}
  },
  {
   "cell_type": "code",
   "execution_count": 1,
   "metadata": {},
   "outputs": [],
   "source": [
    "import numpy as np \n",
    "import torch\n",
    "import torch.nn as nn \n",
    "import torch.nn.functional as F\n",
    "import torch.optim as optim\n",
    "from torchvision import datasets, transforms"
   ]
  },
  {
   "cell_type": "code",
   "execution_count": 2,
   "metadata": {},
   "outputs": [],
   "source": [
    "seed = 1\n",
    "\n",
    "batch_size = 64\n",
    "test_batch_size = 64\n",
    "\n",
    "no_cuda = False"
   ]
  },
  {
   "cell_type": "code",
   "execution_count": 3,
   "metadata": {},
   "outputs": [],
   "source": [
    "use_cuda = not no_cuda and torch.cuda.is_available()\n",
    "device = torch.device('cuda' if use_cuda else 'cpu')"
   ]
  },
  {
   "source": [
    "## Data Preprocessing"
   ],
   "cell_type": "markdown",
   "metadata": {}
  },
  {
   "cell_type": "code",
   "execution_count": 4,
   "metadata": {},
   "outputs": [],
   "source": [
    "torch.manual_seed(seed)\n",
    "\n",
    "train_loader = torch.utils.data.DataLoader(\n",
    "    datasets.MNIST('dataset', train=True,\n",
    "                    transform=transforms.Compose([\n",
    "                        transforms.ToTensor(),\n",
    "                        transforms.Normalize(mean=(0.1307,), std=(0.3081,))\n",
    "                    ])),\n",
    "    batch_size=batch_size,\n",
    "    shuffle=True)\n",
    "\n",
    "\n",
    "test_loader = torch.utils.data.DataLoader(\n",
    "    datasets.MNIST('dataset', train=False,\n",
    "                    transform=transforms.Compose([\n",
    "                        transforms.ToTensor(),\n",
    "                        transforms.Normalize(mean=(0.1307,), std=(0.3081,))\n",
    "                    ])),\n",
    "    batch_size=test_batch_size,\n",
    "    shuffle=True)"
   ]
  },
  {
   "cell_type": "code",
   "execution_count": 5,
   "metadata": {},
   "outputs": [
    {
     "output_type": "execute_result",
     "data": {
      "text/plain": [
       "(torch.Size([64, 1, 28, 28]), torch.Size([64]))"
      ]
     },
     "metadata": {},
     "execution_count": 5
    }
   ],
   "source": [
    "image, label = next(iter(train_loader))\n",
    "image.shape, label.shape"
   ]
  },
  {
   "source": [
    "## Model"
   ],
   "cell_type": "markdown",
   "metadata": {}
  },
  {
   "cell_type": "code",
   "execution_count": 6,
   "metadata": {},
   "outputs": [],
   "source": [
    "class Net(nn.Module):\n",
    "    def __init__(self):\n",
    "        super(Net, self).__init__()\n",
    "        self.conv1 = nn.Conv2d(1, 20, 5, 1)\n",
    "        self.conv2 = nn.Conv2d(20, 50, 5, 1)\n",
    "        self.fc1 = nn.Linear(4*4*50, 500)\n",
    "        self.fc2 = nn.Linear(500, 10)\n",
    "\n",
    "    def forward(self, x):\n",
    "        # Feature Extraction\n",
    "        x = F.relu(self.conv1(x))\n",
    "        x = F.max_pool2d(x, 2, 2)\n",
    "        x = F.relu(self.conv2(x))\n",
    "        x = F.max_pool2d(x, 2, 2)\n",
    "\n",
    "        # Classification\n",
    "        x = x.view(-1, 4*4*50)\n",
    "        x = F.relu(self.fc1(x))\n",
    "        x = self.fc2(x)\n",
    "        return F.log_softmax(x, dim=1)"
   ]
  },
  {
   "source": [
    "## Optimization"
   ],
   "cell_type": "markdown",
   "metadata": {}
  },
  {
   "cell_type": "code",
   "execution_count": 7,
   "metadata": {},
   "outputs": [],
   "source": [
    "model = Net().to(device)"
   ]
  },
  {
   "cell_type": "code",
   "execution_count": 8,
   "metadata": {},
   "outputs": [],
   "source": [
    "optimizer = optim.SGD(model.parameters(), lr=0.001, momentum=0.5)"
   ]
  },
  {
   "source": [
    "## Training & Evaluation"
   ],
   "cell_type": "markdown",
   "metadata": {}
  },
  {
   "cell_type": "code",
   "execution_count": 9,
   "metadata": {},
   "outputs": [],
   "source": [
    "epochs = 10\n",
    "log_interval = 100"
   ]
  },
  {
   "cell_type": "code",
   "execution_count": 10,
   "metadata": {},
   "outputs": [
    {
     "output_type": "stream",
     "name": "stdout",
     "text": [
      "Train Epoch: 1 [0/60000 (0%)]\tLoss:  2.317003\n",
      "Train Epoch: 1 [6400/60000 (11%)]\tLoss:  2.226167\n",
      "Train Epoch: 1 [12800/60000 (21%)]\tLoss:  2.128714\n",
      "Train Epoch: 1 [19200/60000 (32%)]\tLoss:  1.934888\n",
      "Train Epoch: 1 [25600/60000 (43%)]\tLoss:  1.455804\n",
      "Train Epoch: 1 [32000/60000 (53%)]\tLoss:  1.081223\n",
      "Train Epoch: 1 [38400/60000 (64%)]\tLoss:  0.740689\n",
      "Train Epoch: 1 [44800/60000 (75%)]\tLoss:  0.647225\n",
      "Train Epoch: 1 [51200/60000 (85%)]\tLoss:  0.587733\n",
      "Train Epoch: 1 [57600/60000 (96%)]\tLoss:  0.556596\n",
      "\n",
      "Test set: Average Loss: 0.4332, Accuracy: 8825/10000 (88.2500%)\n",
      "\n",
      "Train Epoch: 2 [0/60000 (0%)]\tLoss:  0.516281\n",
      "Train Epoch: 2 [6400/60000 (11%)]\tLoss:  0.369894\n",
      "Train Epoch: 2 [12800/60000 (21%)]\tLoss:  0.312479\n",
      "Train Epoch: 2 [19200/60000 (32%)]\tLoss:  0.365391\n",
      "Train Epoch: 2 [25600/60000 (43%)]\tLoss:  0.262125\n",
      "Train Epoch: 2 [32000/60000 (53%)]\tLoss:  0.306044\n",
      "Train Epoch: 2 [38400/60000 (64%)]\tLoss:  0.224974\n",
      "Train Epoch: 2 [44800/60000 (75%)]\tLoss:  0.277941\n",
      "Train Epoch: 2 [51200/60000 (85%)]\tLoss:  0.523071\n",
      "Train Epoch: 2 [57600/60000 (96%)]\tLoss:  0.318241\n",
      "\n",
      "Test set: Average Loss: 0.2708, Accuracy: 9220/10000 (92.2000%)\n",
      "\n",
      "Train Epoch: 3 [0/60000 (0%)]\tLoss:  0.348977\n",
      "Train Epoch: 3 [6400/60000 (11%)]\tLoss:  0.260480\n",
      "Train Epoch: 3 [12800/60000 (21%)]\tLoss:  0.228351\n",
      "Train Epoch: 3 [19200/60000 (32%)]\tLoss:  0.180650\n",
      "Train Epoch: 3 [25600/60000 (43%)]\tLoss:  0.243425\n",
      "Train Epoch: 3 [32000/60000 (53%)]\tLoss:  0.202749\n",
      "Train Epoch: 3 [38400/60000 (64%)]\tLoss:  0.145575\n",
      "Train Epoch: 3 [44800/60000 (75%)]\tLoss:  0.191594\n",
      "Train Epoch: 3 [51200/60000 (85%)]\tLoss:  0.192711\n",
      "Train Epoch: 3 [57600/60000 (96%)]\tLoss:  0.326073\n",
      "\n",
      "Test set: Average Loss: 0.2103, Accuracy: 9392/10000 (93.9200%)\n",
      "\n",
      "Train Epoch: 4 [0/60000 (0%)]\tLoss:  0.294634\n",
      "Train Epoch: 4 [6400/60000 (11%)]\tLoss:  0.229965\n",
      "Train Epoch: 4 [12800/60000 (21%)]\tLoss:  0.187707\n",
      "Train Epoch: 4 [19200/60000 (32%)]\tLoss:  0.163433\n",
      "Train Epoch: 4 [25600/60000 (43%)]\tLoss:  0.330109\n",
      "Train Epoch: 4 [32000/60000 (53%)]\tLoss:  0.222250\n",
      "Train Epoch: 4 [38400/60000 (64%)]\tLoss:  0.260862\n",
      "Train Epoch: 4 [44800/60000 (75%)]\tLoss:  0.164513\n",
      "Train Epoch: 4 [51200/60000 (85%)]\tLoss:  0.139597\n",
      "Train Epoch: 4 [57600/60000 (96%)]\tLoss:  0.144089\n",
      "\n",
      "Test set: Average Loss: 0.1778, Accuracy: 9496/10000 (94.9600%)\n",
      "\n",
      "Train Epoch: 5 [0/60000 (0%)]\tLoss:  0.150657\n",
      "Train Epoch: 5 [6400/60000 (11%)]\tLoss:  0.181770\n",
      "Train Epoch: 5 [12800/60000 (21%)]\tLoss:  0.062663\n",
      "Train Epoch: 5 [19200/60000 (32%)]\tLoss:  0.137818\n",
      "Train Epoch: 5 [25600/60000 (43%)]\tLoss:  0.084000\n",
      "Train Epoch: 5 [32000/60000 (53%)]\tLoss:  0.302098\n",
      "Train Epoch: 5 [38400/60000 (64%)]\tLoss:  0.260425\n",
      "Train Epoch: 5 [44800/60000 (75%)]\tLoss:  0.403257\n",
      "Train Epoch: 5 [51200/60000 (85%)]\tLoss:  0.112401\n",
      "Train Epoch: 5 [57600/60000 (96%)]\tLoss:  0.213270\n",
      "\n",
      "Test set: Average Loss: 0.1479, Accuracy: 9590/10000 (95.9000%)\n",
      "\n",
      "Train Epoch: 6 [0/60000 (0%)]\tLoss:  0.098970\n",
      "Train Epoch: 6 [6400/60000 (11%)]\tLoss:  0.205911\n",
      "Train Epoch: 6 [12800/60000 (21%)]\tLoss:  0.090065\n",
      "Train Epoch: 6 [19200/60000 (32%)]\tLoss:  0.120966\n",
      "Train Epoch: 6 [25600/60000 (43%)]\tLoss:  0.066788\n",
      "Train Epoch: 6 [32000/60000 (53%)]\tLoss:  0.206793\n",
      "Train Epoch: 6 [38400/60000 (64%)]\tLoss:  0.212965\n",
      "Train Epoch: 6 [44800/60000 (75%)]\tLoss:  0.116836\n",
      "Train Epoch: 6 [51200/60000 (85%)]\tLoss:  0.235585\n",
      "Train Epoch: 6 [57600/60000 (96%)]\tLoss:  0.146080\n",
      "\n",
      "Test set: Average Loss: 0.1299, Accuracy: 9637/10000 (96.3700%)\n",
      "\n",
      "Train Epoch: 7 [0/60000 (0%)]\tLoss:  0.094777\n",
      "Train Epoch: 7 [6400/60000 (11%)]\tLoss:  0.136286\n",
      "Train Epoch: 7 [12800/60000 (21%)]\tLoss:  0.152761\n",
      "Train Epoch: 7 [19200/60000 (32%)]\tLoss:  0.104073\n",
      "Train Epoch: 7 [25600/60000 (43%)]\tLoss:  0.098301\n",
      "Train Epoch: 7 [32000/60000 (53%)]\tLoss:  0.077566\n",
      "Train Epoch: 7 [38400/60000 (64%)]\tLoss:  0.274342\n",
      "Train Epoch: 7 [44800/60000 (75%)]\tLoss:  0.163594\n",
      "Train Epoch: 7 [51200/60000 (85%)]\tLoss:  0.183153\n",
      "Train Epoch: 7 [57600/60000 (96%)]\tLoss:  0.128295\n",
      "\n",
      "Test set: Average Loss: 0.1143, Accuracy: 9669/10000 (96.6900%)\n",
      "\n",
      "Train Epoch: 8 [0/60000 (0%)]\tLoss:  0.123028\n",
      "Train Epoch: 8 [6400/60000 (11%)]\tLoss:  0.171751\n",
      "Train Epoch: 8 [12800/60000 (21%)]\tLoss:  0.078310\n",
      "Train Epoch: 8 [19200/60000 (32%)]\tLoss:  0.167428\n",
      "Train Epoch: 8 [25600/60000 (43%)]\tLoss:  0.077534\n",
      "Train Epoch: 8 [32000/60000 (53%)]\tLoss:  0.139005\n",
      "Train Epoch: 8 [38400/60000 (64%)]\tLoss:  0.142334\n",
      "Train Epoch: 8 [44800/60000 (75%)]\tLoss:  0.196449\n",
      "Train Epoch: 8 [51200/60000 (85%)]\tLoss:  0.083077\n",
      "Train Epoch: 8 [57600/60000 (96%)]\tLoss:  0.121886\n",
      "\n",
      "Test set: Average Loss: 0.1033, Accuracy: 9694/10000 (96.9400%)\n",
      "\n",
      "Train Epoch: 9 [0/60000 (0%)]\tLoss:  0.081585\n",
      "Train Epoch: 9 [6400/60000 (11%)]\tLoss:  0.063489\n",
      "Train Epoch: 9 [12800/60000 (21%)]\tLoss:  0.249865\n",
      "Train Epoch: 9 [19200/60000 (32%)]\tLoss:  0.070967\n",
      "Train Epoch: 9 [25600/60000 (43%)]\tLoss:  0.022198\n",
      "Train Epoch: 9 [32000/60000 (53%)]\tLoss:  0.070075\n",
      "Train Epoch: 9 [38400/60000 (64%)]\tLoss:  0.095183\n",
      "Train Epoch: 9 [44800/60000 (75%)]\tLoss:  0.092302\n",
      "Train Epoch: 9 [51200/60000 (85%)]\tLoss:  0.073542\n",
      "Train Epoch: 9 [57600/60000 (96%)]\tLoss:  0.104910\n",
      "\n",
      "Test set: Average Loss: 0.0935, Accuracy: 9733/10000 (97.3300%)\n",
      "\n",
      "Train Epoch: 10 [0/60000 (0%)]\tLoss:  0.092602\n",
      "Train Epoch: 10 [6400/60000 (11%)]\tLoss:  0.093160\n",
      "Train Epoch: 10 [12800/60000 (21%)]\tLoss:  0.063100\n",
      "Train Epoch: 10 [19200/60000 (32%)]\tLoss:  0.176082\n",
      "Train Epoch: 10 [25600/60000 (43%)]\tLoss:  0.068568\n",
      "Train Epoch: 10 [32000/60000 (53%)]\tLoss:  0.027332\n",
      "Train Epoch: 10 [38400/60000 (64%)]\tLoss:  0.090523\n",
      "Train Epoch: 10 [44800/60000 (75%)]\tLoss:  0.078204\n",
      "Train Epoch: 10 [51200/60000 (85%)]\tLoss:  0.057360\n",
      "Train Epoch: 10 [57600/60000 (96%)]\tLoss:  0.049509\n",
      "\n",
      "Test set: Average Loss: 0.0838, Accuracy: 9750/10000 (97.5000%)\n",
      "\n"
     ]
    }
   ],
   "source": [
    "for epoch in range(1, epochs + 1):\n",
    "    # Train Mode\n",
    "    model.train()\n",
    "    for batch_idx, (data, target) in enumerate(train_loader):\n",
    "        data, target = data.to(device), target.to(device)\n",
    "        optimizer.zero_grad()\n",
    "        output = model(data)\n",
    "        loss = F.nll_loss(output, target)\n",
    "        loss.backward()\n",
    "        optimizer.step()\n",
    "\n",
    "        if batch_idx % log_interval == 0:\n",
    "            print('Train Epoch: {} [{}/{} ({:.0f}%)]\\tLoss: {: .6f}'.format(\n",
    "                epoch, batch_idx * len(data), len(train_loader.dataset),\n",
    "                100 * batch_idx / len(train_loader), loss.item()\n",
    "            ))\n",
    "\n",
    "    # Evaluation Mode\n",
    "    model.eval()\n",
    "\n",
    "    test_loss = 0\n",
    "    correct = 0\n",
    "    with torch.no_grad():\n",
    "        for data, target in test_loader:\n",
    "            data, target = data.to(device), target.to(device)\n",
    "            output = model(data)\n",
    "            test_loss += F.nll_loss(output, target, reduction='sum').item()\n",
    "            pred = output.argmax(dim=1, keepdim=True)\n",
    "            correct += pred.eq(target.view_as(pred)).sum().item()\n",
    "\n",
    "    test_loss /= len(test_loader.dataset)\n",
    "\n",
    "    print('\\nTest set: Average Loss: {:.4f}, Accuracy: {}/{} ({:.4f}%)\\n'.format(\n",
    "        test_loss, correct, len(test_loader.dataset), 100. * correct / len(test_loader.dataset)\n",
    "    ))"
   ]
  }
 ]
}