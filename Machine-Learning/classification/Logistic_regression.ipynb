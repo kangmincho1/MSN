{
 "metadata": {
  "language_info": {
   "codemirror_mode": {
    "name": "ipython",
    "version": 3
   },
   "file_extension": ".py",
   "mimetype": "text/x-python",
   "name": "python",
   "nbconvert_exporter": "python",
   "pygments_lexer": "ipython3",
   "version": "3.7.4-final"
  },
  "orig_nbformat": 2,
  "kernelspec": {
   "name": "python3",
   "display_name": "Python 3"
  }
 },
 "nbformat": 4,
 "nbformat_minor": 2,
 "cells": [
  {
   "source": [
    "# 로지스틱 회귀(Logistic Regression)\n",
    "- 이름은 회귀이지만 분류 모델\n",
    "- 가볍고 빠르며 성능이 뛰어나다"
   ],
   "cell_type": "markdown",
   "metadata": {}
  },
  {
   "cell_type": "code",
   "execution_count": 2,
   "metadata": {},
   "outputs": [
    {
     "output_type": "stream",
     "name": "stdout",
     "text": [
      "Score of accuracy:  0.9649122807017544\nScore of roc_auc_score:  0.9588661551577153\n"
     ]
    }
   ],
   "source": [
    "from sklearn.datasets import load_breast_cancer\n",
    "from sklearn.linear_model import LogisticRegression\n",
    "from sklearn.preprocessing import StandardScaler\n",
    "from sklearn.model_selection import train_test_split\n",
    "from sklearn.metrics import accuracy_score, roc_auc_score\n",
    "\n",
    "cancer = load_breast_cancer()\n",
    "scaler = StandardScaler()\n",
    "data_scaled = scaler.fit_transform(cancer.data)\n",
    "\n",
    "X_train, X_test, y_train, y_test = train_test_split(data_scaled, cancer.target, test_size=0.3)\n",
    "\n",
    "lr = LogisticRegression()\n",
    "lr.fit(X_train, y_train)\n",
    "pred = lr.predict(X_test)\n",
    "\n",
    "print('Score of accuracy: ', accuracy_score(y_test, pred))\n",
    "print('Score of roc_auc_score: ', roc_auc_score(y_test, pred))"
   ]
  },
  {
   "source": [
    "## 하이퍼 파라미터 조정\n",
    "- 로지스틱 회귀의 클래스 파라미터\n",
    "    - penalty: 규제의 유형(L1, L2)\n",
    "    - C: alpha의 역수"
   ],
   "cell_type": "markdown",
   "metadata": {}
  },
  {
   "cell_type": "code",
   "execution_count": 4,
   "metadata": {},
   "outputs": [
    {
     "output_type": "stream",
     "name": "stdout",
     "text": [
      "{'C': 0.1, 'penalty': 'l2', 'solver': 'liblinear'} 0.9789103690685413\n"
     ]
    }
   ],
   "source": [
    "from sklearn.model_selection import GridSearchCV\n",
    "\n",
    "params = {\n",
    "    'penalty': ['l2', 'l1'],\n",
    "    'C': [0.01, 0.1, 1, 5, 10],\n",
    "    'solver': ['liblinear']\n",
    "}\n",
    "\n",
    "grid_clf = GridSearchCV(lr, param_grid=params, scoring='accuracy', cv=3)\n",
    "grid_clf.fit(data_scaled, cancer.target)\n",
    "print(grid_clf.best_params_, grid_clf.best_score_)"
   ]
  }
 ]
}