{
 "metadata": {
  "language_info": {
   "codemirror_mode": {
    "name": "ipython",
    "version": 3
   },
   "file_extension": ".py",
   "mimetype": "text/x-python",
   "name": "python",
   "nbconvert_exporter": "python",
   "pygments_lexer": "ipython3",
   "version": "3.7.4-final"
  },
  "orig_nbformat": 2,
  "kernelspec": {
   "name": "python3",
   "display_name": "Python 3"
  }
 },
 "nbformat": 4,
 "nbformat_minor": 2,
 "cells": [
  {
   "source": [
    "# 라쏘(Lasso) 회귀\n",
    "- 규제 선형 모델: MSE를 최소화하고 회귀계수의 크기를 제어함으로써, 다항 회귀에서의 과적합(overfitting)을 방지\n",
    "- 라쏘 회귀는 L1 규제를 적용\n",
    "    - L1 규제: alpha 값을 조정하여 가중치의 값을 규제하며, 이는 L2 규제와 달리 가중치를 0으로 만들 수 있다"
   ],
   "cell_type": "markdown",
   "metadata": {}
  },
  {
   "cell_type": "code",
   "execution_count": 5,
   "metadata": {},
   "outputs": [
    {
     "output_type": "stream",
     "name": "stdout",
     "text": [
      "alpha 0.07 : 5.6122842675266735\nalpha 0.1 : 5.615116035266935\nalpha 0.5 : 5.669123409594897\nalpha 1 : 5.776020813823376\nalpha 3 : 6.188763210800905\n"
     ]
    }
   ],
   "source": [
    "import numpy as np \n",
    "import pandas as pd \n",
    "from sklearn.datasets import load_boston\n",
    "from sklearn.linear_model import Lasso\n",
    "from sklearn.model_selection import cross_val_score\n",
    "\n",
    "boston = load_boston()\n",
    "df = pd.DataFrame(boston.data, columns=boston.feature_names)\n",
    "df['PRICE'] = boston.target\n",
    "\n",
    "y_target = df['PRICE']\n",
    "X_data = df.drop(['PRICE'], axis=1, inplace=False)\n",
    "\n",
    "def get_linear_reg_eval(model_name, params=None, X_data_n=None, index_n=None, y_target_n=None):\n",
    "    coeff_df = pd.DataFrame()\n",
    "    for param in params:\n",
    "        if model_name == 'Ridge': model = Ridge(alpha=param)\n",
    "        elif model_name == 'Lasso': model = Lasso(alpha=param)\n",
    "        elif model_name == 'ElasticNet': model = ElasticNet(alpha=param, l1_ratio=0.7)\n",
    "        neg_mse_scores = cross_val_score(model, X_data_n, y_target_n, scoring='neg_mean_squared_error', cv=5)\n",
    "        avg_rmse = np.mean(np.sqrt(-1 * neg_mse_scores))\n",
    "        print('alpha {} : {}'.format(param, avg_rmse))\n",
    "        model.fit(X_data_n, y_target_n)\n",
    "        coeff = pd.Series(data=model.coef_, index=index_n)\n",
    "        colname = 'alpha:' + str(param)\n",
    "        coeff_df[colname] = coeff\n",
    "    return coeff_df\n",
    "\n",
    "lasso_alphas = [0.07, 0.1, 0.5, 1, 3]\n",
    "coeff_lasso_df = get_linear_reg_eval('Lasso', params=lasso_alphas, X_data_n=X_data, index_n=X_data.columns, y_target_n=y_target)"
   ]
  },
  {
   "cell_type": "code",
   "execution_count": 7,
   "metadata": {},
   "outputs": [
    {
     "output_type": "execute_result",
     "data": {
      "text/plain": [
       "         alpha:0.07  alpha:0.1  alpha:0.5   alpha:1   alpha:3\n",
       "RM         3.789725   3.703202   2.498212  0.949811  0.000000\n",
       "CHAS       1.434343   0.955190   0.000000  0.000000  0.000000\n",
       "RAD        0.270936   0.274707   0.277451  0.264206  0.061864\n",
       "ZN         0.049059   0.049211   0.049544  0.049165  0.037231\n",
       "B          0.010248   0.010249   0.009469  0.008247  0.006510\n",
       "NOX       -0.000000  -0.000000  -0.000000 -0.000000  0.000000\n",
       "AGE       -0.011706  -0.010037   0.003604  0.020910  0.042495\n",
       "TAX       -0.014290  -0.014570  -0.015442 -0.015212 -0.008602\n",
       "INDUS     -0.042120  -0.036619  -0.005253 -0.000000 -0.000000\n",
       "CRIM      -0.098193  -0.097894  -0.083289 -0.063437 -0.000000\n",
       "LSTAT     -0.560431  -0.568769  -0.656290 -0.761115 -0.807679\n",
       "PTRATIO   -0.765107  -0.770654  -0.758752 -0.722966 -0.265072\n",
       "DIS       -1.176583  -1.160538  -0.936605 -0.668790 -0.000000"
      ],
      "text/html": "<div>\n<style scoped>\n    .dataframe tbody tr th:only-of-type {\n        vertical-align: middle;\n    }\n\n    .dataframe tbody tr th {\n        vertical-align: top;\n    }\n\n    .dataframe thead th {\n        text-align: right;\n    }\n</style>\n<table border=\"1\" class=\"dataframe\">\n  <thead>\n    <tr style=\"text-align: right;\">\n      <th></th>\n      <th>alpha:0.07</th>\n      <th>alpha:0.1</th>\n      <th>alpha:0.5</th>\n      <th>alpha:1</th>\n      <th>alpha:3</th>\n    </tr>\n  </thead>\n  <tbody>\n    <tr>\n      <td>RM</td>\n      <td>3.789725</td>\n      <td>3.703202</td>\n      <td>2.498212</td>\n      <td>0.949811</td>\n      <td>0.000000</td>\n    </tr>\n    <tr>\n      <td>CHAS</td>\n      <td>1.434343</td>\n      <td>0.955190</td>\n      <td>0.000000</td>\n      <td>0.000000</td>\n      <td>0.000000</td>\n    </tr>\n    <tr>\n      <td>RAD</td>\n      <td>0.270936</td>\n      <td>0.274707</td>\n      <td>0.277451</td>\n      <td>0.264206</td>\n      <td>0.061864</td>\n    </tr>\n    <tr>\n      <td>ZN</td>\n      <td>0.049059</td>\n      <td>0.049211</td>\n      <td>0.049544</td>\n      <td>0.049165</td>\n      <td>0.037231</td>\n    </tr>\n    <tr>\n      <td>B</td>\n      <td>0.010248</td>\n      <td>0.010249</td>\n      <td>0.009469</td>\n      <td>0.008247</td>\n      <td>0.006510</td>\n    </tr>\n    <tr>\n      <td>NOX</td>\n      <td>-0.000000</td>\n      <td>-0.000000</td>\n      <td>-0.000000</td>\n      <td>-0.000000</td>\n      <td>0.000000</td>\n    </tr>\n    <tr>\n      <td>AGE</td>\n      <td>-0.011706</td>\n      <td>-0.010037</td>\n      <td>0.003604</td>\n      <td>0.020910</td>\n      <td>0.042495</td>\n    </tr>\n    <tr>\n      <td>TAX</td>\n      <td>-0.014290</td>\n      <td>-0.014570</td>\n      <td>-0.015442</td>\n      <td>-0.015212</td>\n      <td>-0.008602</td>\n    </tr>\n    <tr>\n      <td>INDUS</td>\n      <td>-0.042120</td>\n      <td>-0.036619</td>\n      <td>-0.005253</td>\n      <td>-0.000000</td>\n      <td>-0.000000</td>\n    </tr>\n    <tr>\n      <td>CRIM</td>\n      <td>-0.098193</td>\n      <td>-0.097894</td>\n      <td>-0.083289</td>\n      <td>-0.063437</td>\n      <td>-0.000000</td>\n    </tr>\n    <tr>\n      <td>LSTAT</td>\n      <td>-0.560431</td>\n      <td>-0.568769</td>\n      <td>-0.656290</td>\n      <td>-0.761115</td>\n      <td>-0.807679</td>\n    </tr>\n    <tr>\n      <td>PTRATIO</td>\n      <td>-0.765107</td>\n      <td>-0.770654</td>\n      <td>-0.758752</td>\n      <td>-0.722966</td>\n      <td>-0.265072</td>\n    </tr>\n    <tr>\n      <td>DIS</td>\n      <td>-1.176583</td>\n      <td>-1.160538</td>\n      <td>-0.936605</td>\n      <td>-0.668790</td>\n      <td>-0.000000</td>\n    </tr>\n  </tbody>\n</table>\n</div>"
     },
     "metadata": {},
     "execution_count": 7
    }
   ],
   "source": [
    "sort_column = 'alpha:' + str(lasso_alphas[0])\n",
    "coeff_lasso_df.sort_values(by=sort_column, ascending=False)"
   ]
  }
 ]
}