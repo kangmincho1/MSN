{
 "metadata": {
  "language_info": {
   "codemirror_mode": {
    "name": "ipython",
    "version": 3
   },
   "file_extension": ".py",
   "mimetype": "text/x-python",
   "name": "python",
   "nbconvert_exporter": "python",
   "pygments_lexer": "ipython3",
   "version": "3.7.4-final"
  },
  "orig_nbformat": 2,
  "kernelspec": {
   "name": "python3",
   "display_name": "Python 3"
  }
 },
 "nbformat": 4,
 "nbformat_minor": 2,
 "cells": [
  {
   "source": [
    "# 엘라스틱넷(Elastic Net) 회귀\n",
    "- 규제 선형 모델: MSE를 최소화하고 회귀계수의 크기를 제어함으로써, 다항 회귀에서의 과적합(overfitting)을 방지\n",
    "- L1 규제와 L2 규제를 결합\n",
    "    - L1 규제에 따라 가중치값이 급격하게 변하는 것을 완화, 다만 수행 시간이 상대적으로 길다"
   ],
   "cell_type": "markdown",
   "metadata": {}
  },
  {
   "cell_type": "code",
   "execution_count": 18,
   "metadata": {},
   "outputs": [
    {
     "output_type": "stream",
     "name": "stdout",
     "text": [
      "alpha 0.07 : 5.54165434734814\nalpha 0.1 : 5.52592849629491\nalpha 0.5 : 5.466748649445586\nalpha 1 : 5.596874445109748\nalpha 3 : 6.068121638621164\n"
     ]
    }
   ],
   "source": [
    "import numpy as np \n",
    "import pandas as pd \n",
    "from sklearn.datasets import load_boston\n",
    "from sklearn.linear_model import Ridge\n",
    "from sklearn.linear_model import Lasso\n",
    "from sklearn.linear_model import ElasticNet\n",
    "from sklearn.model_selection import cross_val_score\n",
    "\n",
    "boston = load_boston()\n",
    "df = pd.DataFrame(boston.data, columns=boston.feature_names)\n",
    "df['PRICE'] = boston.target\n",
    "\n",
    "y_target = df['PRICE']\n",
    "X_data = df.drop(['PRICE'], axis=1, inplace=False)\n",
    "\n",
    "def get_linear_reg_eval(model_name, params=None, X_data_n=None, index_n=None, y_target_n=None):\n",
    "    coeff_df = pd.DataFrame()\n",
    "    for param in params:\n",
    "        if model_name == 'Ridge': model = Ridge(alpha=param)\n",
    "        elif model_name == 'Lasso': model = Lasso(alpha=param)\n",
    "        elif model_name == 'ElasticNet': model = ElasticNet(alpha=param, l1_ratio=0.7)\n",
    "        neg_mse_scores = cross_val_score(model, X_data_n, y_target_n, scoring='neg_mean_squared_error', cv=5)\n",
    "        avg_rmse = np.mean(np.sqrt(-1 * neg_mse_scores))\n",
    "        print('alpha {} : {}'.format(param, avg_rmse))\n",
    "        model.fit(X_data_n, y_target_n)\n",
    "        coeff = pd.Series(data=model.coef_, index=index_n)\n",
    "        colname = 'alpha:' + str(param)\n",
    "        coeff_df[colname] = coeff\n",
    "    return coeff_df\n",
    "\n",
    "elastic_alphas = [0.07, 0.1, 0.5, 1, 3]\n",
    "coeff_elastic_df = get_linear_reg_eval('ElasticNet', params=elastic_alphas, X_data_n=X_data, index_n=X_data.columns, y_target_n=y_target)"
   ]
  },
  {
   "cell_type": "code",
   "execution_count": 30,
   "metadata": {},
   "outputs": [
    {
     "output_type": "execute_result",
     "data": {
      "text/plain": [
       "         alpha:0.07  alpha:0.1  alpha:0.5   alpha:1   alpha:3\n",
       "RM         3.574162   3.414154   1.918419  0.938789  0.000000\n",
       "CHAS       1.330724   0.979706   0.000000  0.000000  0.000000\n",
       "RAD        0.278880   0.283443   0.300761  0.289299  0.146846\n",
       "ZN         0.050107   0.050617   0.052878  0.052136  0.038268\n",
       "B          0.010122   0.010067   0.009114  0.008320  0.007020\n",
       "AGE       -0.010116  -0.008276   0.007760  0.020348  0.043446\n",
       "TAX       -0.014522  -0.014814  -0.016046 -0.016218 -0.011417\n",
       "INDUS     -0.044855  -0.042719  -0.023252 -0.000000 -0.000000\n",
       "CRIM      -0.099468  -0.099213  -0.089070 -0.073577 -0.019058\n",
       "NOX       -0.175072  -0.000000  -0.000000 -0.000000 -0.000000\n",
       "LSTAT     -0.574822  -0.587702  -0.693861 -0.760457 -0.800368\n",
       "PTRATIO   -0.779498  -0.784725  -0.790969 -0.738672 -0.423065\n",
       "DIS       -1.189438  -1.173647  -0.975902 -0.725174 -0.031208"
      ],
      "text/html": "<div>\n<style scoped>\n    .dataframe tbody tr th:only-of-type {\n        vertical-align: middle;\n    }\n\n    .dataframe tbody tr th {\n        vertical-align: top;\n    }\n\n    .dataframe thead th {\n        text-align: right;\n    }\n</style>\n<table border=\"1\" class=\"dataframe\">\n  <thead>\n    <tr style=\"text-align: right;\">\n      <th></th>\n      <th>alpha:0.07</th>\n      <th>alpha:0.1</th>\n      <th>alpha:0.5</th>\n      <th>alpha:1</th>\n      <th>alpha:3</th>\n    </tr>\n  </thead>\n  <tbody>\n    <tr>\n      <td>RM</td>\n      <td>3.574162</td>\n      <td>3.414154</td>\n      <td>1.918419</td>\n      <td>0.938789</td>\n      <td>0.000000</td>\n    </tr>\n    <tr>\n      <td>CHAS</td>\n      <td>1.330724</td>\n      <td>0.979706</td>\n      <td>0.000000</td>\n      <td>0.000000</td>\n      <td>0.000000</td>\n    </tr>\n    <tr>\n      <td>RAD</td>\n      <td>0.278880</td>\n      <td>0.283443</td>\n      <td>0.300761</td>\n      <td>0.289299</td>\n      <td>0.146846</td>\n    </tr>\n    <tr>\n      <td>ZN</td>\n      <td>0.050107</td>\n      <td>0.050617</td>\n      <td>0.052878</td>\n      <td>0.052136</td>\n      <td>0.038268</td>\n    </tr>\n    <tr>\n      <td>B</td>\n      <td>0.010122</td>\n      <td>0.010067</td>\n      <td>0.009114</td>\n      <td>0.008320</td>\n      <td>0.007020</td>\n    </tr>\n    <tr>\n      <td>AGE</td>\n      <td>-0.010116</td>\n      <td>-0.008276</td>\n      <td>0.007760</td>\n      <td>0.020348</td>\n      <td>0.043446</td>\n    </tr>\n    <tr>\n      <td>TAX</td>\n      <td>-0.014522</td>\n      <td>-0.014814</td>\n      <td>-0.016046</td>\n      <td>-0.016218</td>\n      <td>-0.011417</td>\n    </tr>\n    <tr>\n      <td>INDUS</td>\n      <td>-0.044855</td>\n      <td>-0.042719</td>\n      <td>-0.023252</td>\n      <td>-0.000000</td>\n      <td>-0.000000</td>\n    </tr>\n    <tr>\n      <td>CRIM</td>\n      <td>-0.099468</td>\n      <td>-0.099213</td>\n      <td>-0.089070</td>\n      <td>-0.073577</td>\n      <td>-0.019058</td>\n    </tr>\n    <tr>\n      <td>NOX</td>\n      <td>-0.175072</td>\n      <td>-0.000000</td>\n      <td>-0.000000</td>\n      <td>-0.000000</td>\n      <td>-0.000000</td>\n    </tr>\n    <tr>\n      <td>LSTAT</td>\n      <td>-0.574822</td>\n      <td>-0.587702</td>\n      <td>-0.693861</td>\n      <td>-0.760457</td>\n      <td>-0.800368</td>\n    </tr>\n    <tr>\n      <td>PTRATIO</td>\n      <td>-0.779498</td>\n      <td>-0.784725</td>\n      <td>-0.790969</td>\n      <td>-0.738672</td>\n      <td>-0.423065</td>\n    </tr>\n    <tr>\n      <td>DIS</td>\n      <td>-1.189438</td>\n      <td>-1.173647</td>\n      <td>-0.975902</td>\n      <td>-0.725174</td>\n      <td>-0.031208</td>\n    </tr>\n  </tbody>\n</table>\n</div>"
     },
     "metadata": {},
     "execution_count": 30
    }
   ],
   "source": [
    "sort_column = 'alpha:' + str(elastic_alphas[0])\n",
    "coeff_elastic_df.sort_values(by=sort_column, ascending=False)"
   ]
  }
 ]
}