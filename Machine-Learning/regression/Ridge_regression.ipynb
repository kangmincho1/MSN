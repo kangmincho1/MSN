{
 "metadata": {
  "language_info": {
   "codemirror_mode": {
    "name": "ipython",
    "version": 3
   },
   "file_extension": ".py",
   "mimetype": "text/x-python",
   "name": "python",
   "nbconvert_exporter": "python",
   "pygments_lexer": "ipython3",
   "version": "3.7.4-final"
  },
  "orig_nbformat": 2,
  "kernelspec": {
   "name": "python3",
   "display_name": "Python 3"
  }
 },
 "nbformat": 4,
 "nbformat_minor": 2,
 "cells": [
  {
   "source": [
    "# 릿지(Ridge) 회귀\n",
    "- 규제 선형 모델: MSE를 최소화하고 회귀계수의 크기를 제어함으로써, 다항 회귀에서의 과적합(overfitting)을 방지\n",
    "- 릿지 회귀는 L2 규제를 적용\n",
    "    - L2 규제: 가중치의 값을 이용하여 이상치(outlier)나 노이즈가 있는 데이터 학습에 적합 => 가중치 절댓값의 크기 감소시킴"
   ],
   "cell_type": "markdown",
   "metadata": {}
  },
  {
   "cell_type": "code",
   "execution_count": 1,
   "metadata": {},
   "outputs": [
    {
     "output_type": "stream",
     "name": "stdout",
     "text": [
      "[-11.4217962  -24.29446706 -28.14355069 -74.59916618 -28.51714218]\n",
      "[3.3796148  4.92894178 5.30504955 8.63708088 5.3401444 ]\n",
      "5.518166280868971\n"
     ]
    }
   ],
   "source": [
    "import numpy as np \n",
    "import pandas as pd \n",
    "from sklearn.datasets import load_boston\n",
    "from sklearn.linear_model import Ridge\n",
    "from sklearn.model_selection import cross_val_score\n",
    "\n",
    "boston = load_boston()\n",
    "df = pd.DataFrame(boston.data, columns=boston.feature_names)\n",
    "df['PRICE'] = boston.target\n",
    "\n",
    "y_target = df['PRICE']\n",
    "X_data = df.drop(['PRICE'], axis=1, inplace=False)\n",
    "\n",
    "ridge = Ridge(alpha=10)\n",
    "neg_mse_scores = cross_val_score(ridge, X_data, y_target, scoring='neg_mean_squared_error', cv=5)\n",
    "rmse_scores = np.sqrt(-1 * neg_mse_scores)\n",
    "avg_rmse = np.mean(rmse_scores)\n",
    "\n",
    "print(neg_mse_scores)\n",
    "print(rmse_scores)\n",
    "print(avg_rmse)"
   ]
  },
  {
   "source": [
    "### 일반 선형 회귀를 했을 때보다 RMSE 값이 줄어든 것을 확인할 수 있다"
   ],
   "cell_type": "markdown",
   "metadata": {}
  },
  {
   "source": [
    "### L2 Regularization은 alpha 값에 패널티를 부여하여 가중치 절댓값의 크기를 감소시키고 overfitting을 방지"
   ],
   "cell_type": "markdown",
   "metadata": {}
  },
  {
   "cell_type": "code",
   "execution_count": 7,
   "metadata": {},
   "outputs": [
    {
     "output_type": "stream",
     "name": "stdout",
     "text": [
      "alpha 0 : 5.828658946215808\nalpha 0.1 : 5.78848662703241\nalpha 1 : 5.6525709656135446\nalpha 10 : 5.518166280868971\nalpha 100 : 5.329589628472144\n"
     ]
    }
   ],
   "source": [
    "alphas = [0, 0.1, 1, 10, 100]\n",
    "\n",
    "for alpha in alphas:\n",
    "    ridge = Ridge(alpha=alpha)\n",
    "    neg_mse_scores = cross_val_score(ridge, X_data, y_target, scoring='neg_mean_squared_error', cv=5)\n",
    "    avg_rmse = np.mean(np.sqrt(-1 * neg_mse_scores))\n",
    "    print('alpha {} : {}'.format(alpha, avg_rmse))"
   ]
  },
  {
   "cell_type": "code",
   "execution_count": 9,
   "metadata": {},
   "outputs": [
    {
     "output_type": "display_data",
     "data": {
      "text/plain": "<Figure size 1296x432 with 5 Axes>",
      "image/png": "[encoded data removed]"
     },
     "metadata": {
      "needs_background": "light"
     }
    }
   ],
   "source": [
    "import matplotlib.pyplot as plt \n",
    "import seaborn as sns \n",
    "\n",
    "fig, axs = plt.subplots(figsize=(18, 6), nrows=1, ncols=5)\n",
    "coeff_df = pd.DataFrame()\n",
    "\n",
    "for pos, alpha in enumerate(alphas):\n",
    "    ridge = Ridge(alpha=alpha)\n",
    "    ridge.fit(X_data, y_target)\n",
    "    coeff = pd.Series(data=ridge.coef_, index=X_data.columns)\n",
    "    colname = 'alpha:' + str(alpha)\n",
    "    coeff_df[colname] = coeff\n",
    "    coeff = coeff.sort_values(ascending=False)\n",
    "    axs[pos].set_title(colname)\n",
    "    axs[pos].set_xlim(-3, 6)\n",
    "    sns.barplot(x=coeff.values, y=coeff.index, ax=axs[pos])\n",
    "plt.show()"
   ]
  },
  {
   "cell_type": "code",
   "execution_count": 11,
   "metadata": {},
   "outputs": [
    {
     "output_type": "execute_result",
     "data": {
      "text/plain": [
       "           alpha:0  alpha:0.1    alpha:1  alpha:10  alpha:100\n",
       "RM        3.809865   3.818233   3.854000  3.702272   2.334536\n",
       "CHAS      2.686734   2.670019   2.552393  1.952021   0.638335\n",
       "RAD       0.306049   0.303515   0.290142  0.279596   0.315358\n",
       "ZN        0.046420   0.046572   0.047443  0.049579   0.054496\n",
       "INDUS     0.020559   0.015999  -0.008805 -0.042962  -0.052826\n",
       "B         0.009312   0.009368   0.009673  0.010037   0.009393\n",
       "AGE       0.000692  -0.000269  -0.005415 -0.010707   0.001212\n",
       "TAX      -0.012335  -0.012421  -0.012912 -0.013993  -0.015856\n",
       "CRIM     -0.108011  -0.107474  -0.104595 -0.101435  -0.102202\n",
       "LSTAT    -0.524758  -0.525966  -0.533343 -0.559366  -0.660764\n",
       "PTRATIO  -0.952747  -0.940759  -0.876074 -0.797945  -0.829218\n",
       "DIS      -1.475567  -1.459626  -1.372654 -1.248808  -1.153390\n",
       "NOX     -17.766611 -16.684645 -10.777015 -2.371619  -0.262847"
      ],
      "text/html": "<div>\n<style scoped>\n    .dataframe tbody tr th:only-of-type {\n        vertical-align: middle;\n    }\n\n    .dataframe tbody tr th {\n        vertical-align: top;\n    }\n\n    .dataframe thead th {\n        text-align: right;\n    }\n</style>\n<table border=\"1\" class=\"dataframe\">\n  <thead>\n    <tr style=\"text-align: right;\">\n      <th></th>\n      <th>alpha:0</th>\n      <th>alpha:0.1</th>\n      <th>alpha:1</th>\n      <th>alpha:10</th>\n      <th>alpha:100</th>\n    </tr>\n  </thead>\n  <tbody>\n    <tr>\n      <td>RM</td>\n      <td>3.809865</td>\n      <td>3.818233</td>\n      <td>3.854000</td>\n      <td>3.702272</td>\n      <td>2.334536</td>\n    </tr>\n    <tr>\n      <td>CHAS</td>\n      <td>2.686734</td>\n      <td>2.670019</td>\n      <td>2.552393</td>\n      <td>1.952021</td>\n      <td>0.638335</td>\n    </tr>\n    <tr>\n      <td>RAD</td>\n      <td>0.306049</td>\n      <td>0.303515</td>\n      <td>0.290142</td>\n      <td>0.279596</td>\n      <td>0.315358</td>\n    </tr>\n    <tr>\n      <td>ZN</td>\n      <td>0.046420</td>\n      <td>0.046572</td>\n      <td>0.047443</td>\n      <td>0.049579</td>\n      <td>0.054496</td>\n    </tr>\n    <tr>\n      <td>INDUS</td>\n      <td>0.020559</td>\n      <td>0.015999</td>\n      <td>-0.008805</td>\n      <td>-0.042962</td>\n      <td>-0.052826</td>\n    </tr>\n    <tr>\n      <td>B</td>\n      <td>0.009312</td>\n      <td>0.009368</td>\n      <td>0.009673</td>\n      <td>0.010037</td>\n      <td>0.009393</td>\n    </tr>\n    <tr>\n      <td>AGE</td>\n      <td>0.000692</td>\n      <td>-0.000269</td>\n      <td>-0.005415</td>\n      <td>-0.010707</td>\n      <td>0.001212</td>\n    </tr>\n    <tr>\n      <td>TAX</td>\n      <td>-0.012335</td>\n      <td>-0.012421</td>\n      <td>-0.012912</td>\n      <td>-0.013993</td>\n      <td>-0.015856</td>\n    </tr>\n    <tr>\n      <td>CRIM</td>\n      <td>-0.108011</td>\n      <td>-0.107474</td>\n      <td>-0.104595</td>\n      <td>-0.101435</td>\n      <td>-0.102202</td>\n    </tr>\n    <tr>\n      <td>LSTAT</td>\n      <td>-0.524758</td>\n      <td>-0.525966</td>\n      <td>-0.533343</td>\n      <td>-0.559366</td>\n      <td>-0.660764</td>\n    </tr>\n    <tr>\n      <td>PTRATIO</td>\n      <td>-0.952747</td>\n      <td>-0.940759</td>\n      <td>-0.876074</td>\n      <td>-0.797945</td>\n      <td>-0.829218</td>\n    </tr>\n    <tr>\n      <td>DIS</td>\n      <td>-1.475567</td>\n      <td>-1.459626</td>\n      <td>-1.372654</td>\n      <td>-1.248808</td>\n      <td>-1.153390</td>\n    </tr>\n    <tr>\n      <td>NOX</td>\n      <td>-17.766611</td>\n      <td>-16.684645</td>\n      <td>-10.777015</td>\n      <td>-2.371619</td>\n      <td>-0.262847</td>\n    </tr>\n  </tbody>\n</table>\n</div>"
     },
     "metadata": {},
     "execution_count": 11
    }
   ],
   "source": [
    "sort_column = 'alpha:' + str(alphas[0])\n",
    "coeff_df.sort_values(by=sort_column, ascending=False)"
   ]
  },
  {
   "source": [
    "### 이로써 alpha의 값이 커질수록 상대적으로 값이 큰 가중치의 값들이 작아지는 것을 확인할 수 있다"
   ],
   "cell_type": "markdown",
   "metadata": {}
  }
 ]
}