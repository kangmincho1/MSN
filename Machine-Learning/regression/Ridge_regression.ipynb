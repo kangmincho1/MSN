{
 "metadata": {
  "language_info": {
   "codemirror_mode": {
    "name": "ipython",
    "version": 3
   },
   "file_extension": ".py",
   "mimetype": "text/x-python",
   "name": "python",
   "nbconvert_exporter": "python",
   "pygments_lexer": "ipython3",
   "version": "3.7.4-final"
  },
  "orig_nbformat": 2,
  "kernelspec": {
   "name": "python3",
   "display_name": "Python 3"
  }
 },
 "nbformat": 4,
 "nbformat_minor": 2,
 "cells": [
  {
   "source": [
    "# 릿지(Ridge) 회귀\n",
    "- 규제 선형 모델: MSE를 최소화하고 회귀계수의 크기를 제어함으로써, 다항 회귀에서의 과적합(overfitting)을 방지\n",
    "- 릿지 회귀는 L2 규제를 적용\n",
    "    - L2 규제: 가중치의 값을 이용하여 이상치(outlier)나 노이즈가 있는 데이터 학습에 적합 => 가중치 절댓값의 크기 감소시킴"
   ],
   "cell_type": "markdown",
   "metadata": {}
  },
  {
   "cell_type": "code",
   "execution_count": 1,
   "metadata": {},
   "outputs": [
    {
     "output_type": "stream",
     "name": "stdout",
     "text": [
      "[-11.4217962  -24.29446706 -28.14355069 -74.59916618 -28.51714218]\n",
      "[3.3796148  4.92894178 5.30504955 8.63708088 5.3401444 ]\n",
      "5.518166280868971\n"
     ]
    }
   ],
   "source": [
    "import numpy as np \n",
    "import pandas as pd \n",
    "from sklearn.datasets import load_boston\n",
    "from sklearn.linear_model import Ridge\n",
    "from sklearn.model_selection import cross_val_score\n",
    "\n",
    "boston = load_boston()\n",
    "df = pd.DataFrame(boston.data, columns=boston.feature_names)\n",
    "df['PRICE'] = boston.target\n",
    "\n",
    "y_target = df['PRICE']\n",
    "X_data = df.drop(['PRICE'], axis=1, inplace=False)\n",
    "\n",
    "ridge = Ridge(alpha=10)\n",
    "neg_mse_scores = cross_val_score(ridge, X_data, y_target, scoring='neg_mean_squared_error', cv=5)\n",
    "rmse_scores = np.sqrt(-1 * neg_mse_scores)\n",
    "avg_rmse = np.mean(rmse_scores)\n",
    "\n",
    "print(neg_mse_scores)\n",
    "print(rmse_scores)\n",
    "print(avg_rmse)"
   ]
  },
  {
   "source": [
    "### 일반 선형 회귀를 했을 때보다 cost가 줄어든 것을 확인할 수 있다"
   ],
   "cell_type": "markdown",
   "metadata": {}
  }
 ]
}