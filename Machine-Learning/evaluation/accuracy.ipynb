{
 "metadata": {
  "language_info": {
   "codemirror_mode": {
    "name": "ipython",
    "version": 3
   },
   "file_extension": ".py",
   "mimetype": "text/x-python",
   "name": "python",
   "nbconvert_exporter": "python",
   "pygments_lexer": "ipython3",
   "version": "3.7.4-final"
  },
  "orig_nbformat": 2,
  "kernelspec": {
   "name": "python3",
   "display_name": "Python 3"
  }
 },
 "nbformat": 4,
 "nbformat_minor": 2,
 "cells": [
  {
   "source": [
    "# 정확도(Accuracy)\n",
    "    정확도 = 예측 결과가 실제와 동일한 데이터 건수 / 전체 예측 데이터 건수\n",
    "    - binary classification 의 경우 데이터 구성에 따라 모델의 성능을 왜곡할 수 있음\n",
    "    - titanic survivors prediction 에서 성별이 1이면 death, 0이면 survive로 처리해도 정확도가 0.7~0.8의 값을 갖는다\n",
    "    - 레이블 값의 분포가 불균형한 경우 좋지 못한 평가가 될 수 있다. ex) 100개의 데이터 중 90개는 레이블이 0, 10개는 1인 경우\n"
   ],
   "cell_type": "markdown",
   "metadata": {}
  },
  {
   "cell_type": "code",
   "execution_count": 5,
   "metadata": {},
   "outputs": [
    {
     "output_type": "stream",
     "name": "stdout",
     "text": [
      "(450,)\n0    410\n1     40\ndtype: int64\n0.9111111111111111\n"
     ]
    }
   ],
   "source": [
    "# Accuracy의 한계 예시) MNIST 데이터 중 레이블 7 제외 나머지 False => 예측 값을 무조건 0으로 반환해도 정확도: 90%\n",
    "\n",
    "import pandas as pd \n",
    "import numpy as np\n",
    "\n",
    "from sklearn.model_selection import train_test_split\n",
    "from sklearn.datasets import load_digits\n",
    "from sklearn.metrics import accuracy_score\n",
    "from sklearn.base import BaseEstimator\n",
    "\n",
    "class MyFakeClassifier(BaseEstimator):\n",
    "    def fit(self, X, y):\n",
    "        pass\n",
    "    \n",
    "    def predict(self, X):\n",
    "        return np.zeros((X.shape[0], 1), dtype=int)\n",
    "\n",
    "digits = load_digits()\n",
    "y = (digits.target == 7).astype(int)\n",
    "\n",
    "X_train, X_test, y_train, y_test = train_test_split(digits.data, y)\n",
    "print(y_test.shape)\n",
    "print(pd.Series(y_test).value_counts())\n",
    "\n",
    "clf = MyFakeClassifier()\n",
    "clf.fit(X_train, y_train)\n",
    "\n",
    "predictions = clf.predict(X_test)\n",
    "print(accuracy_score(y_test, predictions))"
   ]
  }
 ]
}