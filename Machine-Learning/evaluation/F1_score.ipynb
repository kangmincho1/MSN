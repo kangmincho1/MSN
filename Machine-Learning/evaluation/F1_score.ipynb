{
 "metadata": {
  "language_info": {
   "codemirror_mode": {
    "name": "ipython",
    "version": 3
   },
   "file_extension": ".py",
   "mimetype": "text/x-python",
   "name": "python",
   "nbconvert_exporter": "python",
   "pygments_lexer": "ipython3",
   "version": "3.7.4-final"
  },
  "orig_nbformat": 2,
  "kernelspec": {
   "name": "python3",
   "display_name": "Python 3"
  }
 },
 "nbformat": 4,
 "nbformat_minor": 2,
 "cells": [
  {
   "source": [
    "# F1_score\n",
    "- 정밀도와 재현율을 결합한 평가 지표\n",
    "    - F1 = 2/(1/recall + 1/precision) = 2 * (precision * recall) / (precision + recall)"
   ],
   "cell_type": "markdown",
   "metadata": {}
  },
  {
   "cell_type": "code",
   "execution_count": 5,
   "metadata": {},
   "outputs": [
    {
     "output_type": "stream",
     "name": "stdout",
     "text": [
      "Confusion Matrix\n [[96 18]\n [21 44]]\nAccuracy:  0.7821229050279329\nPrecision:  0.7096774193548387\nRecall:  0.676923076923077\nF1_score:  0.6929133858267716\nThreshold: 0.4\nConfusion Matrix\n [[97 21]\n [11 50]]\nAccuracy:  0.8212290502793296\nPrecision:  0.704225352112676\nRecall:  0.819672131147541\nF1_score:  0.7575757575757576\n\nThreshold: 0.45\nConfusion Matrix\n [[105  13]\n [ 13  48]]\nAccuracy:  0.8547486033519553\nPrecision:  0.7868852459016393\nRecall:  0.7868852459016393\nF1_score:  0.7868852459016392\n\nThreshold: 0.5\nConfusion Matrix\n [[108  10]\n [ 14  47]]\nAccuracy:  0.8659217877094972\nPrecision:  0.8245614035087719\nRecall:  0.7704918032786885\nF1_score:  0.7966101694915254\n\nThreshold: 0.55\nConfusion Matrix\n [[111   7]\n [ 16  45]]\nAccuracy:  0.8715083798882681\nPrecision:  0.8653846153846154\nRecall:  0.7377049180327869\nF1_score:  0.7964601769911505\n\nThreshold: 0.6\nConfusion Matrix\n [[113   5]\n [ 17  44]]\nAccuracy:  0.8770949720670391\nPrecision:  0.8979591836734694\nRecall:  0.7213114754098361\nF1_score:  0.8\n\n"
     ]
    }
   ],
   "source": [
    "import numpy as np \n",
    "import pandas as pd\n",
    "from sklearn.metrics import confusion_matrix\n",
    "from sklearn.metrics import accuracy_score\n",
    "from sklearn.metrics import precision_score, recall_score\n",
    "from sklearn.model_selection import train_test_split\n",
    "from sklearn.linear_model import LogisticRegression\n",
    "from sklearn.preprocessing import LabelEncoder\n",
    "\n",
    "def fillna(df):\n",
    "    df['Age'].fillna(df['Age'].mean(), inplace=True)\n",
    "    df['Cabin'].fillna('N', inplace=True)\n",
    "    df['Embarked'].fillna('N', inplace=True)\n",
    "    df['Fare'].fillna(0, inplace=True)\n",
    "    return df\n",
    "\n",
    "def drop_features(df):\n",
    "    df.drop(['PassengerId', 'Name', 'Ticket'], axis=1, inplace=True) # PassengerId, Name, Ticket 은 생존율에 영향이 없을 것이라 판단\n",
    "    return df\n",
    "\n",
    "def format_features(df):\n",
    "    df['Cabin'] = df['Cabin'].str[0]\n",
    "    features = ['Cabin', 'Sex', 'Embarked']\n",
    "    for feature in features:\n",
    "        le = LabelEncoder()\n",
    "        le = le.fit(df[feature])\n",
    "        df[feature] = le.transform(df[feature])\n",
    "    return df\n",
    "\n",
    "def transform_features(df):\n",
    "    df = fillna(df)\n",
    "    df = drop_features(df)\n",
    "    df = format_features(df)\n",
    "    return df\n",
    "    \n",
    "def get_clf_eval(y_test, predictions):\n",
    "    print('Confusion Matrix\\n', confusion_matrix(y_test, predictions))\n",
    "    print('Accuracy: ', accuracy_score(y_test, predictions))\n",
    "    print('Precision: ', precision_score(y_test, predictions))\n",
    "    print('Recall: ', recall_score(y_test, predictions))\n",
    "    print('F1_score: ', f1_score(y_test, predictions))\n",
    "\n",
    "titanic_df = pd.read_csv(r'C:\\Users\\arceu\\Desktop\\Machine-Learning\\data\\titanic_train.csv')\n",
    "y_titanic_df = titanic_df['Survived']\n",
    "X_titanic_df = titanic_df.drop('Survived', axis=1)\n",
    "X_titanic_df = transform_features(X_titanic_df)\n",
    "\n",
    "X_train, X_test, y_train, y_test = train_test_split(X_titanic_df, y_titanic_df, test_size=0.2)\n",
    "\n",
    "clf = LogisticRegression()\n",
    "clf.fit(X_train, y_train)\n",
    "pred = clf.predict(X_test)\n",
    "get_clf_eval(y_test, pred)\n",
    "\n",
    "pred_prob = clf.predict_proba(X_test)\n",
    "\n",
    "result = np.concatenate([pred_prob, pred.reshape(-1, 1)], axis=1)\n",
    "\n",
    "from sklearn.preprocessing import Binarizer\n",
    "\n",
    "X_train, X_test, y_train, y_test = train_test_split(X_titanic_df, y_titanic_df, test_size=0.2, random_state=11)\n",
    "\n",
    "clf = LogisticRegression()\n",
    "clf.fit(X_train, y_train)\n",
    "\n",
    "pred = clf.predict(X_test)\n",
    "pred_prob = clf.predict_proba(X_test)\n",
    "pred_prob2 = pred_prob[:, 1].reshape(-1, 1)\n",
    "\n",
    "# 정확도/정밀도/재현율 중 최적의 평가 지표를 찾기위한 Threshold(문턱 값) 조정\n",
    "ths = [0.4, 0.45, 0.5, 0.55, 0.6]\n",
    "for th in ths:\n",
    "    binarizer = Binarizer(threshold=th).fit(pred_prob2)\n",
    "    custom_pred = binarizer.transform(pred_prob2)\n",
    "    print('Threshold: {}'.format(th))\n",
    "    get_clf_eval(y_test, custom_pred)\n",
    "    print()"
   ]
  }
 ]
}