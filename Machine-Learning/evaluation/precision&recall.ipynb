{
 "metadata": {
  "language_info": {
   "codemirror_mode": {
    "name": "ipython",
    "version": 3
   },
   "file_extension": ".py",
   "mimetype": "text/x-python",
   "name": "python",
   "nbconvert_exporter": "python",
   "pygments_lexer": "ipython3",
   "version": "3.7.4-final"
  },
  "orig_nbformat": 2,
  "kernelspec": {
   "name": "python3",
   "display_name": "Python 3"
  }
 },
 "nbformat": 4,
 "nbformat_minor": 2,
 "cells": [
  {
   "source": [
    "## 오차 행렬(Confusion Matrix)\n",
    "\n",
    "- 예측 오류가 얼마인지와 어떤 유형의 예측 오류가 발생하는지를 나타냄\n",
    "\n",
    "    - TN(True Negative): Negative로 예측한 것이 맞는 경우\n",
    "    - FP(False Positive): Positive로 예측한 것이 틀린 경우\n",
    "    - FN(False Negative): Negative로 예측한 것이 틀린 경우\n",
    "    - TP(True Positive): Positive로 예측한 것이 맞는 경우\n",
    "\n",
    "    정확도(Accuracy) = (TN + TP) / (TN + FP + FN + TP)"
   ],
   "cell_type": "markdown",
   "metadata": {}
  },
  {
   "source": [
    "# 정밀도(Preicision) & 재현율(Recall)\n",
    "- Positive 데이터 세트의 예측 성능에 좀 더 초점을 맞춘 평가 지표\n",
    "\n",
    "    - Preicision = TP / (FP + TP)\n",
    "    - Recall = TP / (FN + TP)"
   ],
   "cell_type": "markdown",
   "metadata": {}
  },
  {
   "source": [
    "import numpy as np \n",
    "import pandas as pd\n",
    "from sklearn.metrics import confusion_matrix\n",
    "from sklearn.metrics import accuracy_score\n",
    "from sklearn.metrics import precision_score, recall_score\n",
    "from sklearn.model_selection import train_test_split\n",
    "from sklearn.linear_model import LogisticRegression\n",
    "from sklearn.preprocessing import LabelEncoder\n",
    "\n",
    "def fillna(df):\n",
    "    df['Age'].fillna(df['Age'].mean(), inplace=True)\n",
    "    df['Cabin'].fillna('N', inplace=True)\n",
    "    df['Embarked'].fillna('N', inplace=True)\n",
    "    df['Fare'].fillna(0, inplace=True)\n",
    "    return df\n",
    "\n",
    "def drop_features(df):\n",
    "    df.drop(['PassengerId', 'Name', 'Ticket'], axis=1, inplace=True) # PassengerId, Name, Ticket 은 생존율에 영향이 없을 것이라 판단\n",
    "    return df\n",
    "\n",
    "def format_features(df):\n",
    "    df['Cabin'] = df['Cabin'].str[0]\n",
    "    features = ['Cabin', 'Sex', 'Embarked']\n",
    "    for feature in features:\n",
    "        le = LabelEncoder()\n",
    "        le = le.fit(df[feature])\n",
    "        df[feature] = le.transform(df[feature])\n",
    "    return df\n",
    "\n",
    "def transform_features(df):\n",
    "    df = fillna(df)\n",
    "    df = drop_features(df)\n",
    "    df = format_features(df)\n",
    "    return df\n",
    "    \n",
    "def get_clf_eval(y_test, predictions):\n",
    "    print('Confusion Matrix\\n', confusion_matrix(y_test, predictions))\n",
    "    print('Accuracy: ', accuracy_score(y_test, predictions))\n",
    "    print('Precision: ', precision_score(y_test, predictions))\n",
    "    print('Recall: ', recall_score(y_test, predictions))\n",
    "\n",
    "titanic_df = pd.read_csv(r'C:\\Users\\arceu\\Desktop\\Machine-Learning\\data\\titanic_train.csv')\n",
    "y_titanic_df = titanic_df['Survived']\n",
    "X_titanic_df = titanic_df.drop('Survived', axis=1)\n",
    "X_titanic_df = transform_features(X_titanic_df)\n",
    "\n",
    "X_train, X_test, y_train, y_test = train_test_split(X_titanic_df, y_titanic_df, test_size=0.2)\n",
    "\n",
    "clf = LogisticRegression()\n",
    "clf.fit(X_train, y_train)\n",
    "pred = clf.predict(X_test)\n",
    "get_clf_eval(y_test, pred)"
   ],
   "cell_type": "code",
   "metadata": {},
   "execution_count": 17,
   "outputs": [
    {
     "output_type": "stream",
     "name": "stdout",
     "text": [
      "Confusion Matrix\n [[96 14]\n [20 49]]\nAccuracy:  0.8100558659217877\nPrecision:  0.7777777777777778\nRecall:  0.7101449275362319\n"
     ]
    }
   ]
  },
  {
   "source": [
    "## 트레이드 오프(Trade-off)\n",
    "- 정밀도와 재현율의 관계는 한쪽이 커지면 한쪽이 작아지는 관계이다. 즉 Trade-off이다\n",
    "    - 테스트 데이터에 대한 예측 확률을 확인해야 => predict_proba() 이용"
   ],
   "cell_type": "markdown",
   "metadata": {}
  },
  {
   "cell_type": "code",
   "execution_count": 19,
   "metadata": {},
   "outputs": [
    {
     "output_type": "stream",
     "name": "stdout",
     "text": [
      "[[0.85787171 0.14212829]\n [0.67592791 0.32407209]\n [0.31664458 0.68335542]\n [0.63923556 0.36076444]\n [0.88952977 0.11047023]\n [0.87585974 0.12414026]\n [0.31250512 0.68749488]\n [0.83108487 0.16891513]\n [0.22873634 0.77126366]\n [0.8596841  0.1403159 ]\n [0.18862301 0.81137699]\n [0.06181508 0.93818492]\n [0.07277627 0.92722373]\n [0.85207773 0.14792227]\n [0.87585974 0.12414026]\n [0.8829964  0.1170036 ]\n [0.37354415 0.62645585]\n [0.1780417  0.8219583 ]\n [0.71976391 0.28023609]\n [0.86770205 0.13229795]\n [0.8627628  0.1372372 ]\n [0.98911478 0.01088522]\n [0.53827893 0.46172107]\n [0.71455512 0.28544488]\n [0.71686343 0.28313657]\n [0.15439975 0.84560025]\n [0.16712525 0.83287475]\n [0.86086881 0.13913119]\n [0.4735792  0.5264208 ]\n [0.87596674 0.12403326]\n [0.82873472 0.17126528]\n [0.78449086 0.21550914]\n [0.01029505 0.98970495]\n [0.78073405 0.21926595]\n [0.84706175 0.15293825]\n [0.58753466 0.41246534]\n [0.87089564 0.12910436]\n [0.63863243 0.36136757]\n [0.90491999 0.09508001]\n [0.84718657 0.15281343]\n [0.86538261 0.13461739]\n [0.86653654 0.13346346]\n [0.35934238 0.64065762]\n [0.84316119 0.15683881]\n [0.37693692 0.62306308]\n [0.31980058 0.68019942]\n [0.20670273 0.79329727]\n [0.85021517 0.14978483]\n [0.26767436 0.73232564]\n [0.14492083 0.85507917]\n [0.23980592 0.76019408]\n [0.27999685 0.72000315]\n [0.50878584 0.49121416]\n [0.85950587 0.14049413]\n [0.89833054 0.10166946]\n [0.17528656 0.82471344]\n [0.08100227 0.91899773]\n [0.87369658 0.12630342]\n [0.85029351 0.14970649]\n [0.95311586 0.04688414]\n [0.8819744  0.1180256 ]\n [0.65604365 0.34395635]\n [0.41752044 0.58247956]\n [0.68219537 0.31780463]\n [0.85364059 0.14635941]\n [0.15886134 0.84113866]\n [0.87557848 0.12442152]\n [0.84315846 0.15684154]\n [0.87543094 0.12456906]\n [0.89860707 0.10139293]\n [0.83390201 0.16609799]\n [0.81651669 0.18348331]\n [0.88369744 0.11630256]\n [0.78777173 0.21222827]\n [0.4001781  0.5998219 ]\n [0.18362489 0.81637511]\n [0.86534299 0.13465701]\n [0.84315846 0.15684154]\n [0.88649656 0.11350344]\n [0.47457728 0.52542272]\n [0.19209622 0.80790378]\n [0.13245835 0.86754165]\n [0.95887799 0.04112201]\n [0.22430381 0.77569619]\n [0.84769835 0.15230165]\n [0.06665011 0.93334989]\n [0.87510178 0.12489822]\n [0.84403241 0.15596759]\n [0.10270155 0.89729845]\n [0.92977749 0.07022251]\n [0.85071597 0.14928403]\n [0.16302887 0.83697113]\n [0.87276573 0.12723427]\n [0.43079356 0.56920644]\n [0.777061   0.222939  ]\n [0.35608706 0.64391294]\n [0.54653078 0.45346922]\n [0.52729377 0.47270623]\n [0.85944642 0.14055358]\n [0.73144936 0.26855064]\n [0.82048292 0.17951708]\n [0.76165649 0.23834351]\n [0.84043577 0.15956423]\n [0.86537544 0.13462456]\n [0.12735785 0.87264215]\n [0.91016804 0.08983196]\n [0.13164766 0.86835234]\n [0.92795374 0.07204626]\n [0.9255795  0.0744205 ]\n [0.85647971 0.14352029]\n [0.87551369 0.12448631]\n [0.35614349 0.64385651]\n [0.28218638 0.71781362]\n [0.87543094 0.12456906]\n [0.42266543 0.57733457]\n [0.14192112 0.85807888]\n [0.33172695 0.66827305]\n [0.838395   0.161605  ]\n [0.86267369 0.13732631]\n [0.74372542 0.25627458]\n [0.78073405 0.21926595]\n [0.84701594 0.15298406]\n [0.87182151 0.12817849]\n [0.0954621  0.9045379 ]\n [0.69692175 0.30307825]\n [0.84315846 0.15684154]\n [0.76958295 0.23041705]\n [0.0793207  0.9206793 ]\n [0.85331484 0.14668516]\n [0.67951208 0.32048792]\n [0.3704596  0.6295404 ]\n [0.37364484 0.62635516]\n [0.90056383 0.09943617]\n [0.87000518 0.12999482]\n [0.92221285 0.07778715]\n [0.27952363 0.72047637]\n [0.88726407 0.11273593]\n [0.87551369 0.12448631]\n [0.06119545 0.93880455]\n [0.34565376 0.65434624]\n [0.35607963 0.64392037]\n [0.33098621 0.66901379]\n [0.76872045 0.23127955]\n [0.35599973 0.64400027]\n [0.53179258 0.46820742]\n [0.71766216 0.28233784]\n [0.91474727 0.08525273]\n [0.84667076 0.15332924]\n [0.90279259 0.09720741]\n [0.85050423 0.14949577]\n [0.62753761 0.37246239]\n [0.7708902  0.2291098 ]\n [0.22459594 0.77540406]\n [0.79586477 0.20413523]\n [0.32046643 0.67953357]\n [0.84316119 0.15683881]\n [0.87698234 0.12301766]\n [0.70782684 0.29217316]\n [0.12383076 0.87616924]\n [0.92231872 0.07768128]\n [0.78482606 0.21517394]\n [0.10498613 0.89501387]\n [0.33455651 0.66544349]\n [0.58303409 0.41696591]\n [0.52086587 0.47913413]\n [0.86518517 0.13481483]\n [0.19424834 0.80575166]\n [0.88894348 0.11105652]\n [0.33929888 0.66070112]\n [0.21616069 0.78383931]\n [0.75086519 0.24913481]\n [0.21104002 0.78895998]\n [0.62979395 0.37020605]\n [0.88894348 0.11105652]\n [0.13240584 0.86759416]\n [0.24215884 0.75784116]\n [0.87543094 0.12456906]\n [0.89141761 0.10858239]\n [0.51732285 0.48267715]]\n"
     ]
    }
   ],
   "source": [
    "pred_prob = clf.predict_proba(X_test)\n",
    "print(pred_prob)"
   ]
  },
  {
   "cell_type": "code",
   "execution_count": 20,
   "metadata": {},
   "outputs": [
    {
     "output_type": "stream",
     "name": "stdout",
     "text": [
      "[[0.85787171 0.14212829 0.        ]\n [0.67592791 0.32407209 0.        ]\n [0.31664458 0.68335542 1.        ]\n [0.63923556 0.36076444 0.        ]\n [0.88952977 0.11047023 0.        ]\n [0.87585974 0.12414026 0.        ]\n [0.31250512 0.68749488 1.        ]\n [0.83108487 0.16891513 0.        ]\n [0.22873634 0.77126366 1.        ]\n [0.8596841  0.1403159  0.        ]\n [0.18862301 0.81137699 1.        ]\n [0.06181508 0.93818492 1.        ]\n [0.07277627 0.92722373 1.        ]\n [0.85207773 0.14792227 0.        ]\n [0.87585974 0.12414026 0.        ]\n [0.8829964  0.1170036  0.        ]\n [0.37354415 0.62645585 1.        ]\n [0.1780417  0.8219583  1.        ]\n [0.71976391 0.28023609 0.        ]\n [0.86770205 0.13229795 0.        ]\n [0.8627628  0.1372372  0.        ]\n [0.98911478 0.01088522 0.        ]\n [0.53827893 0.46172107 0.        ]\n [0.71455512 0.28544488 0.        ]\n [0.71686343 0.28313657 0.        ]\n [0.15439975 0.84560025 1.        ]\n [0.16712525 0.83287475 1.        ]\n [0.86086881 0.13913119 0.        ]\n [0.4735792  0.5264208  1.        ]\n [0.87596674 0.12403326 0.        ]\n [0.82873472 0.17126528 0.        ]\n [0.78449086 0.21550914 0.        ]\n [0.01029505 0.98970495 1.        ]\n [0.78073405 0.21926595 0.        ]\n [0.84706175 0.15293825 0.        ]\n [0.58753466 0.41246534 0.        ]\n [0.87089564 0.12910436 0.        ]\n [0.63863243 0.36136757 0.        ]\n [0.90491999 0.09508001 0.        ]\n [0.84718657 0.15281343 0.        ]\n [0.86538261 0.13461739 0.        ]\n [0.86653654 0.13346346 0.        ]\n [0.35934238 0.64065762 1.        ]\n [0.84316119 0.15683881 0.        ]\n [0.37693692 0.62306308 1.        ]\n [0.31980058 0.68019942 1.        ]\n [0.20670273 0.79329727 1.        ]\n [0.85021517 0.14978483 0.        ]\n [0.26767436 0.73232564 1.        ]\n [0.14492083 0.85507917 1.        ]\n [0.23980592 0.76019408 1.        ]\n [0.27999685 0.72000315 1.        ]\n [0.50878584 0.49121416 0.        ]\n [0.85950587 0.14049413 0.        ]\n [0.89833054 0.10166946 0.        ]\n [0.17528656 0.82471344 1.        ]\n [0.08100227 0.91899773 1.        ]\n [0.87369658 0.12630342 0.        ]\n [0.85029351 0.14970649 0.        ]\n [0.95311586 0.04688414 0.        ]\n [0.8819744  0.1180256  0.        ]\n [0.65604365 0.34395635 0.        ]\n [0.41752044 0.58247956 1.        ]\n [0.68219537 0.31780463 0.        ]\n [0.85364059 0.14635941 0.        ]\n [0.15886134 0.84113866 1.        ]\n [0.87557848 0.12442152 0.        ]\n [0.84315846 0.15684154 0.        ]\n [0.87543094 0.12456906 0.        ]\n [0.89860707 0.10139293 0.        ]\n [0.83390201 0.16609799 0.        ]\n [0.81651669 0.18348331 0.        ]\n [0.88369744 0.11630256 0.        ]\n [0.78777173 0.21222827 0.        ]\n [0.4001781  0.5998219  1.        ]\n [0.18362489 0.81637511 1.        ]\n [0.86534299 0.13465701 0.        ]\n [0.84315846 0.15684154 0.        ]\n [0.88649656 0.11350344 0.        ]\n [0.47457728 0.52542272 1.        ]\n [0.19209622 0.80790378 1.        ]\n [0.13245835 0.86754165 1.        ]\n [0.95887799 0.04112201 0.        ]\n [0.22430381 0.77569619 1.        ]\n [0.84769835 0.15230165 0.        ]\n [0.06665011 0.93334989 1.        ]\n [0.87510178 0.12489822 0.        ]\n [0.84403241 0.15596759 0.        ]\n [0.10270155 0.89729845 1.        ]\n [0.92977749 0.07022251 0.        ]\n [0.85071597 0.14928403 0.        ]\n [0.16302887 0.83697113 1.        ]\n [0.87276573 0.12723427 0.        ]\n [0.43079356 0.56920644 1.        ]\n [0.777061   0.222939   0.        ]\n [0.35608706 0.64391294 1.        ]\n [0.54653078 0.45346922 0.        ]\n [0.52729377 0.47270623 0.        ]\n [0.85944642 0.14055358 0.        ]\n [0.73144936 0.26855064 0.        ]\n [0.82048292 0.17951708 0.        ]\n [0.76165649 0.23834351 0.        ]\n [0.84043577 0.15956423 0.        ]\n [0.86537544 0.13462456 0.        ]\n [0.12735785 0.87264215 1.        ]\n [0.91016804 0.08983196 0.        ]\n [0.13164766 0.86835234 1.        ]\n [0.92795374 0.07204626 0.        ]\n [0.9255795  0.0744205  0.        ]\n [0.85647971 0.14352029 0.        ]\n [0.87551369 0.12448631 0.        ]\n [0.35614349 0.64385651 1.        ]\n [0.28218638 0.71781362 1.        ]\n [0.87543094 0.12456906 0.        ]\n [0.42266543 0.57733457 1.        ]\n [0.14192112 0.85807888 1.        ]\n [0.33172695 0.66827305 1.        ]\n [0.838395   0.161605   0.        ]\n [0.86267369 0.13732631 0.        ]\n [0.74372542 0.25627458 0.        ]\n [0.78073405 0.21926595 0.        ]\n [0.84701594 0.15298406 0.        ]\n [0.87182151 0.12817849 0.        ]\n [0.0954621  0.9045379  1.        ]\n [0.69692175 0.30307825 0.        ]\n [0.84315846 0.15684154 0.        ]\n [0.76958295 0.23041705 0.        ]\n [0.0793207  0.9206793  1.        ]\n [0.85331484 0.14668516 0.        ]\n [0.67951208 0.32048792 0.        ]\n [0.3704596  0.6295404  1.        ]\n [0.37364484 0.62635516 1.        ]\n [0.90056383 0.09943617 0.        ]\n [0.87000518 0.12999482 0.        ]\n [0.92221285 0.07778715 0.        ]\n [0.27952363 0.72047637 1.        ]\n [0.88726407 0.11273593 0.        ]\n [0.87551369 0.12448631 0.        ]\n [0.06119545 0.93880455 1.        ]\n [0.34565376 0.65434624 1.        ]\n [0.35607963 0.64392037 1.        ]\n [0.33098621 0.66901379 1.        ]\n [0.76872045 0.23127955 0.        ]\n [0.35599973 0.64400027 1.        ]\n [0.53179258 0.46820742 0.        ]\n [0.71766216 0.28233784 0.        ]\n [0.91474727 0.08525273 0.        ]\n [0.84667076 0.15332924 0.        ]\n [0.90279259 0.09720741 0.        ]\n [0.85050423 0.14949577 0.        ]\n [0.62753761 0.37246239 0.        ]\n [0.7708902  0.2291098  0.        ]\n [0.22459594 0.77540406 1.        ]\n [0.79586477 0.20413523 0.        ]\n [0.32046643 0.67953357 1.        ]\n [0.84316119 0.15683881 0.        ]\n [0.87698234 0.12301766 0.        ]\n [0.70782684 0.29217316 0.        ]\n [0.12383076 0.87616924 1.        ]\n [0.92231872 0.07768128 0.        ]\n [0.78482606 0.21517394 0.        ]\n [0.10498613 0.89501387 1.        ]\n [0.33455651 0.66544349 1.        ]\n [0.58303409 0.41696591 0.        ]\n [0.52086587 0.47913413 0.        ]\n [0.86518517 0.13481483 0.        ]\n [0.19424834 0.80575166 1.        ]\n [0.88894348 0.11105652 0.        ]\n [0.33929888 0.66070112 1.        ]\n [0.21616069 0.78383931 1.        ]\n [0.75086519 0.24913481 0.        ]\n [0.21104002 0.78895998 1.        ]\n [0.62979395 0.37020605 0.        ]\n [0.88894348 0.11105652 0.        ]\n [0.13240584 0.86759416 1.        ]\n [0.24215884 0.75784116 1.        ]\n [0.87543094 0.12456906 0.        ]\n [0.89141761 0.10858239 0.        ]\n [0.51732285 0.48267715 0.        ]]\n"
     ]
    }
   ],
   "source": [
    "result = np.concatenate([pred_prob, pred.reshape(-1, 1)], axis=1)\n",
    "print(result)"
   ]
  },
  {
   "cell_type": "code",
   "execution_count": 35,
   "metadata": {},
   "outputs": [
    {
     "output_type": "stream",
     "name": "stdout",
     "text": [
      "Threshold: 0.4\nConfusion Matrix\n [[97 21]\n [11 50]]\nAccuracy:  0.8212290502793296\nPrecision:  0.704225352112676\nRecall:  0.819672131147541\n\nThreshold: 0.45\nConfusion Matrix\n [[105  13]\n [ 13  48]]\nAccuracy:  0.8547486033519553\nPrecision:  0.7868852459016393\nRecall:  0.7868852459016393\n\nThreshold: 0.5\nConfusion Matrix\n [[108  10]\n [ 14  47]]\nAccuracy:  0.8659217877094972\nPrecision:  0.8245614035087719\nRecall:  0.7704918032786885\n\nThreshold: 0.55\nConfusion Matrix\n [[111   7]\n [ 16  45]]\nAccuracy:  0.8715083798882681\nPrecision:  0.8653846153846154\nRecall:  0.7377049180327869\n\nThreshold: 0.6\nConfusion Matrix\n [[113   5]\n [ 17  44]]\nAccuracy:  0.8770949720670391\nPrecision:  0.8979591836734694\nRecall:  0.7213114754098361\n\n"
     ]
    }
   ],
   "source": [
    "from sklearn.preprocessing import Binarizer\n",
    "\n",
    "X_train, X_test, y_train, y_test = train_test_split(X_titanic_df, y_titanic_df, test_size=0.2, random_state=11)\n",
    "\n",
    "clf = LogisticRegression()\n",
    "clf.fit(X_train, y_train)\n",
    "\n",
    "pred = clf.predict(X_test)\n",
    "pred_prob = clf.predict_proba(X_test)\n",
    "pred_prob2 = pred_prob[:, 1].reshape(-1, 1)\n",
    "\n",
    "# 정확도/정밀도/재현율 중 최적의 평가 지표를 찾기위한 Threshold(문턱 값) 조정\n",
    "ths = [0.4, 0.45, 0.5, 0.55, 0.6]\n",
    "for th in ths:\n",
    "    binarizer = Binarizer(threshold=th).fit(pred_prob2)\n",
    "    custom_pred = binarizer.transform(pred_prob2)\n",
    "    print('Threshold: {}'.format(th))\n",
    "    get_clf_eval(y_test, custom_pred)\n",
    "    print()"
   ]
  },
  {
   "cell_type": "code",
   "execution_count": 38,
   "metadata": {},
   "outputs": [
    {
     "output_type": "stream",
     "name": "stdout",
     "text": [
      "(147,)\nThresholds' index [  0  15  30  45  60  75  90 105 120 135]\nThresholds:  [0.11573102 0.13174371 0.14927476 0.17288742 0.25749269 0.37571831\n 0.4920994  0.6287642  0.75924584 0.89611669]\nPrecisions:  [0.37888199 0.42446043 0.45454545 0.51886792 0.61797753 0.67567568\n 0.79661017 0.93023256 0.96428571 1.        ]\nRecalls:  [1.         0.96721311 0.90163934 0.90163934 0.90163934 0.81967213\n 0.7704918  0.6557377  0.44262295 0.21311475]\n"
     ]
    }
   ],
   "source": [
    "from sklearn.metrics import precision_recall_curve\n",
    "\n",
    "pred_prob = clf.predict_proba(X_test)[:, 1]\n",
    "\n",
    "precisions, recalls, ths = precision_recall_curve(y_test, pred_prob)\n",
    "print(ths.shape)\n",
    "\n",
    "th_index = np.arange(0, ths.shape[0], 15)\n",
    "print(\"Thresholds' index\", th_index)\n",
    "print('Thresholds: ', ths[th_index])\n",
    "print('Precisions: ', precisions[th_index])\n",
    "print('Recalls: ', recalls[th_index])"
   ]
  },
  {
   "cell_type": "code",
   "execution_count": 40,
   "metadata": {},
   "outputs": [
    {
     "output_type": "display_data",
     "data": {
      "text/plain": "<Figure size 432x288 with 1 Axes>",
      "image/png": "[encoded data removed]"
     },
     "metadata": {
      "needs_background": "light"
     }
    }
   ],
   "source": [
    "import matplotlib.pyplot as plt\n",
    "\n",
    "def precision_recall_curve_plot(y_test, pred_prob):\n",
    "    precisions, recalls, ths = precision_recall_curve(y_test, pred_prob)\n",
    "\n",
    "    th_boundary = ths.shape[0]\n",
    "    plt.plot(ths, precisions[0:th_boundary], linestyle='--', label='precision')\n",
    "    plt.plot(ths, recalls[0:th_boundary], label='recall')\n",
    "\n",
    "    plt.xlabel('thresholds')\n",
    "    plt.legend()\n",
    "    plt.grid()\n",
    "\n",
    "    plt.show()\n",
    "\n",
    "precision_recall_curve_plot(y_test, pred_prob)"
   ]
  }
 ]
}