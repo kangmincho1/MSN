{
 "metadata": {
  "language_info": {
   "codemirror_mode": {
    "name": "ipython",
    "version": 3
   },
   "file_extension": ".py",
   "mimetype": "text/x-python",
   "name": "python",
   "nbconvert_exporter": "python",
   "pygments_lexer": "ipython3",
   "version": "3.7.4-final"
  },
  "orig_nbformat": 2,
  "kernelspec": {
   "name": "python3",
   "display_name": "Python 3"
  }
 },
 "nbformat": 4,
 "nbformat_minor": 2,
 "cells": [
  {
   "source": [
    "# 선형 회귀 모델을 위한 데이터 변환\n",
    "- feature value와 target value의 분포가 정규분포이면 좋다\n",
    "- target value의 분포가 치우친 왜곡(skew)인 경우이면 예측 성능에 부정적인 영향\n",
    "- 일반적으로 선형 회귀 모델을 적용하기 전에 데이터 스케일링/정규화 작업을 수행한다"
   ],
   "cell_type": "markdown",
   "metadata": {}
  },
  {
   "source": [
    "## Feature data set\n",
    "- StandardScaler를 사용하여 평균 0, 분산 1 의 표준 정규분포로 변환\n",
    "- 다항식 변환 추가 적용\n",
    "- log 변환\n",
    "\n",
    "## Target data set\n",
    "- log 변환"
   ],
   "cell_type": "markdown",
   "metadata": {}
  },
  {
   "cell_type": "code",
   "execution_count": 3,
   "metadata": {},
   "outputs": [],
   "source": [
    "import numpy as np \n",
    "import pandas as pd \n",
    "from sklearn.datasets import load_boston\n",
    "from sklearn.linear_model import Ridge\n",
    "from sklearn.linear_model import Lasso\n",
    "from sklearn.linear_model import ElasticNet\n",
    "from sklearn.model_selection import cross_val_score\n",
    "\n",
    "boston = load_boston()\n",
    "df = pd.DataFrame(boston.data, columns=boston.feature_names)\n",
    "df['PRICE'] = boston.target\n",
    "\n",
    "y_target = df['PRICE']\n",
    "X_data = df.drop(['PRICE'], axis=1, inplace=False)\n",
    "\n",
    "def get_linear_reg_eval(model_name, params=None, X_data_n=None, index_n=None, y_target_n=None):\n",
    "    coeff_df = pd.DataFrame()\n",
    "    for param in params:\n",
    "        if model_name == 'Ridge': model = Ridge(alpha=param)\n",
    "        elif model_name == 'Lasso': model = Lasso(alpha=param)\n",
    "        elif model_name == 'ElasticNet': model = ElasticNet(alpha=param, l1_ratio=0.7)\n",
    "        neg_mse_scores = cross_val_score(model, X_data_n, y_target_n, scoring='neg_mean_squared_error', cv=5)\n",
    "        avg_rmse = np.mean(np.sqrt(-1 * neg_mse_scores))\n",
    "        print('alpha {} : {}'.format(param, avg_rmse))\n",
    "        model.fit(X_data_n, y_target_n)\n",
    "        coeff = pd.Series(data=model.coef_, index=index_n)\n",
    "        colname = 'alpha:' + str(param)\n",
    "        coeff_df[colname] = coeff\n",
    "    return coeff_df"
   ]
  },
  {
   "cell_type": "code",
   "execution_count": 5,
   "metadata": {},
   "outputs": [
    {
     "output_type": "stream",
     "name": "stdout",
     "text": [
      "None None\n",
      "alpha 0.1 : 5.78848662703241\n",
      "alpha 1 : 5.6525709656135446\n",
      "alpha 10 : 5.518166280868971\n",
      "alpha 100 : 5.329589628472144\n",
      "Standard None\n",
      "alpha 0.1 : 5.825992799389435\n",
      "alpha 1 : 5.80288951725773\n",
      "alpha 10 : 5.636831222559067\n",
      "alpha 100 : 5.421374711794966\n",
      "Standard 2\n",
      "alpha 0.1 : 8.827235873001744\n",
      "alpha 1 : 6.871287525962218\n",
      "alpha 10 : 5.484870425533342\n",
      "alpha 100 : 4.634437778261926\n",
      "MinMax None\n",
      "alpha 0.1 : 5.763570225288303\n",
      "alpha 1 : 5.465045081564939\n",
      "alpha 10 : 5.754163637679423\n",
      "alpha 100 : 7.634919863623539\n",
      "MinMax 2\n",
      "alpha 0.1 : 5.297560003127131\n",
      "alpha 1 : 4.322660371524896\n",
      "alpha 10 : 5.185204257580534\n",
      "alpha 100 : 6.537866889704364\n",
      "Log None\n",
      "alpha 0.1 : 4.770429614681663\n",
      "alpha 1 : 4.676227018966875\n",
      "alpha 10 : 4.836439992635265\n",
      "alpha 100 : 6.2409162327190355\n"
     ]
    }
   ],
   "source": [
    "from sklearn.preprocessing import StandardScaler, MinMaxScaler\n",
    "from sklearn.preprocessing import PolynomialFeatures\n",
    "\n",
    "def get_scaled_data(method='None', p_degree=None, input_data=None):\n",
    "    if method == 'Standard': scaled_data = StandardScaler().fit_transform(input_data)\n",
    "    elif method == 'MinMax': scaled_data = MinMaxScaler().fit_transform(input_data)\n",
    "    elif method == 'Log': scaled_data = np.log1p(input_data)\n",
    "    else: scaled_data = input_data\n",
    "\n",
    "    if p_degree != None:\n",
    "        scaled_data = PolynomialFeatures(degree=p_degree, include_bias=False).fit_transform(scaled_data)\n",
    "    return scaled_data\n",
    "\n",
    "alphas = [0.1, 1, 10, 100]\n",
    "scale_methods = [(None, None), ('Standard', None), ('Standard', 2), ('MinMax', None), ('MinMax', 2), ('Log', None)]\n",
    "\n",
    "for scale_method in scale_methods:\n",
    "    X_data_scaled = get_scaled_data(method=scale_method[0], p_degree=scale_method[1], input_data=X_data)\n",
    "    print(scale_method[0], scale_method[1])\n",
    "    get_linear_reg_eval('Ridge', params=alphas, X_data_n=X_data_scaled, y_target_n=y_target)"
   ]
  },
  {
   "source": [
    "### 대체적으로 log 변환이 제일 좋은 성능을 나타내는 것을 알 수 있다"
   ],
   "cell_type": "markdown",
   "metadata": {}
  }
 ]
}