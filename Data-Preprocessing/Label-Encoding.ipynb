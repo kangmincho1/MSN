{
 "metadata": {
  "language_info": {
   "codemirror_mode": {
    "name": "ipython",
    "version": 3
   },
   "file_extension": ".py",
   "mimetype": "text/x-python",
   "name": "python",
   "nbconvert_exporter": "python",
   "pygments_lexer": "ipython3",
   "version": "3.7.4-final"
  },
  "orig_nbformat": 2,
  "kernelspec": {
   "name": "Python 3.7.4 64-bit ('base': conda)",
   "display_name": "Python 3.7.4 64-bit ('base': conda)",
   "metadata": {
    "interpreter": {
     "hash": "b3ba2566441a7c06988d0923437866b63cedc61552a5af99d1f4fb67d367b25f"
    }
   }
  }
 },
 "nbformat": 4,
 "nbformat_minor": 2,
 "cells": [
  {
   "source": [
    "# 데이터 인코딩\n",
    "    레이블 인코딩(Label encoding): 카테고리 피쳐를 코드형 숫자 값으로 변환"
   ],
   "cell_type": "markdown",
   "metadata": {}
  },
  {
   "cell_type": "code",
   "execution_count": 3,
   "metadata": {},
   "outputs": [
    {
     "output_type": "stream",
     "name": "stdout",
     "text": [
      "[1 4 5 2 3 3 0 0]\n['배' '버스' '비행기' '자전거' '지하철' '택시']\n['지하철' '택시' '비행기' '배' '버스' '버스' '자전거' '자전거']\n"
     ]
    }
   ],
   "source": [
    "from sklearn.preprocessing import LabelEncoder\n",
    "\n",
    "items = ['버스', '지하철', '택시', '비행기', '자전거', '자전거', '배', '배']\n",
    "\n",
    "encoder = LabelEncoder()\n",
    "encoder.fit(items)\n",
    "print(encoder.transform(items))\n",
    "print(encoder.classes_)\n",
    "print(encoder.inverse_transform([4, 5, 2,0, 1, 1, 3,3]))"
   ]
  }
 ]
}